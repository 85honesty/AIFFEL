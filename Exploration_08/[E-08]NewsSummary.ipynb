{
 "cells": [
  {
   "cell_type": "markdown",
   "id": "b657f4cf",
   "metadata": {},
   "source": [
    "## [E-8]NewsShorts\n",
    "\n",
    "# 8.뉴스 요약봇 만들기\n",
    "\n",
    "\n",
    "# 목표\n",
    "---\n",
    "- ## 텍스트 요약(Text Summarization)기술을 활용해서 긴문장을 짧은 문자으로 만들어라!\n",
    "    - #### 구글 수많은 정보(페이지만 600억개)중에 우리에게 필요한 정보를 축약해서 본다면 얼마나 좋을까?\n",
    "    - #### 이 아름다운 기술이 바로 텍스트 요약이다\n",
    "    - #### 우리에게 시간을 아껴줄 수 있는 기술이다."
   ]
  },
  {
   "cell_type": "markdown",
   "id": "c4701c8e",
   "metadata": {},
   "source": [
    "|루브릭|\n",
    "|:-|\n",
    "|아래의 기준을 바탕으로 프로젝트를 평가합니다.|\n",
    "\n",
    "---\n",
    "\n",
    "|평가문항|\t상세기준|\n",
    "|:-|:-|\n",
    "|1. Abstractive 모델 구성을 위한 텍스트 전처리 단계가 체계적으로 진행되었다.|분석단계, 정제단계, 정규화와 불용어 제거, 데이터셋 분리, 인코딩 과정이 빠짐없이 체계적으로 진행되었다.|\n",
    "|2. 텍스트 요약모델이 성공적으로 학습되었음을 확인하였다.|모델학습이 안정적으로 수렴되었음을 그래프를 통해 확인하였으며, 실제 요약문과 유사한 요약문장을 얻을 수 있었다.|\n",
    "|3. Extractive 요약을 시도해 보고 Abstractive 요약 결과과 함께 비교해 보았다.|두 요약 결과를 문법완성도 측면과 핵심단어 포함 측면으로 나누어 비교분석 결과를 제시하였다.|\n"
   ]
  },
  {
   "cell_type": "markdown",
   "id": "b0414f80",
   "metadata": {},
   "source": [
    "## 학습 목표\n",
    "- **Extractive/Abstractive summarization 이해하기**\n",
    "- **단어장 크기를 줄이는 다양한 text normalization 적용해보기**\n",
    "- **seq2seq의 성능을 Up시키는 Attention Mechanism 적용하기**"
   ]
  },
  {
   "cell_type": "markdown",
   "id": "4aa97024",
   "metadata": {},
   "source": [
    "## 8-2. 텍스트 요약(Text Summarization)이란?\n",
    "![](https://d3s0tskafalll9.cloudfront.net/media/original_images/E-21-1.png)\n",
    "- #### 텍스트 요약(Text Summarization)이란 위 그림과 같이 긴 길이의 문서(Document) 원문을 핵심 주제만으로 구성된 짧은 요약(Summary) 문장들로 변환\n",
    "    - #### 뉴스 제목을 만들어내는 것이 텍스트 요약의 대표적인 예\n",
    "    - #### 예) 네이버 뉴스 서비스에 있는 요약봇 기능 - 추출적 요약\n",
    "    - #### 중요한 것은 요약 전후에 정보 손실 발생이 최소화되어야 한다는 점  \n",
    "    "
   ]
  },
  {
   "cell_type": "markdown",
   "id": "4f8407b2",
   "metadata": {},
   "source": [
    "## 텍스트 요약 2가지\n",
    "1. #### 추출적 요약(Extractive Summarization)\n",
    "2. #### 추상적 요약(Abstractive Summarization)"
   ]
  },
  {
   "cell_type": "markdown",
   "id": "e756c7ac",
   "metadata": {},
   "source": [
    "# 추출적 요약(Extractive Summarization)\n",
    "![](https://image.edaily.co.kr/images/photo/files/NP/S/2017/11/PS17112800555.jpg)\n",
    "- ## 추출적 요약(Extractive Summarization) 예) 네이버 뉴스 서비스에 있는 요약봇 기능\n",
    "    - #### 딥 러닝보다는 주로 전통적인 머신 러닝 방식에 속하는 텍스트 랭크(TextRank)와 같은 알고리즘을 사용해서 이 방법을 사용\n",
    "    - #### 문장전체에서 핵심문장 몇개를 꺼내와서 요약문을 만드는 방식\n",
    "    - #### 단점) 문장들간의 호응이 자연스럽지 않을 수 있다는 점\n",
    "    \n",
    "    ![%EC%B6%94%EC%B6%9C%EC%9A%94%EC%95%BD1.png](attachment:%EC%B6%94%EC%B6%9C%EC%9A%94%EC%95%BD1.png)\n",
    "    \"메타버스를 구축하는 건 싸지 않다.\"\n",
    "\n",
    "**기사내용**\n",
    "\n",
    "---\n",
    "***CNBC는 옛 페이스북인 메타가 지난 2일(현지시간) 발표한 2021년 4분기 실적에 대해 이같이 평가했다.***\n",
    "\n",
    "---\n",
    "메타버스의 장미빛 전망과 달리 현실은 냉혹하다는 것이다.\n",
    "\n",
    "이날 메타는 VR·AR(가상·증강현실) 연구소 '리얼리티 랩스' 부문 실적을 처음으로 공개했는데, 지난해에만 100억달러가 넘는 순손실을 기록했기 때문이다. 메타버스 사업 중심축인 리얼리티 랩스의 순손실 규모는 2019년 45억달러(약 5조원), 2020년 66억2000만달러(약 8조원), 2021년 101억9000만달러(약 12조원)로 연평균 50%씩 급증하는 추세다.\n",
    "\n",
    "메타는 지난해 10월 사명을 바꿀 정도로 메타버스 사업에 의욕을 나타내고 있지만, 외신들은 메타버스가 메타의 발목을 잡았다고 분석한다. CNBC는 \"리얼리티 랩스가 없었다면 지난해 560억 달러 이상의 이익을 냈을 것\"이라며 '흥청망청 소비'라고 지적했다.\n",
    "\n",
    "문제는 메타버스 구현까지 10~15년은 족히 걸리는 가운데, 올해 리얼리티 랩스 손실규모는 더 커질 것이란 점이다. 데이비드 웨너 메타 CFO(최고재무책임자)는 \"올해 영업손실이 유의미하게 증가할 것\"이라고 예고했으며, 마크 저커버그 CEO 역시 \"아직 갈 길이 멀다\"며 \"방향은 분명하지만 앞으로 갈 길이 완벽히 정의되지 않았다\"고 말했다. 이에 메타 주가는 26.39% 급락해 2500억달러(약 300조2000억원) 규모의 시가총액이 증발했다. 미 증시 사상 하루 최대 손실액이다.\n",
    "\n",
    "고무적인 점은 VR기기 '메타 퀘스트'(구 오큘러스 퀘스트)의 콘텐츠 스토어 매출이 10억달러(약1조2000억원)를 돌파했다는 점이다. 2020년 퀘스트2가 출시되기 직전 콘텐츠 스토어 매출이 1억5000만달러였던 점을 고려하면 단시간 내 비약적으로 성장한 셈이다. 이에 힘입어 리얼리티랩스 매출도 2019년 5억달러, 2020년 11억달러, 2021년 23억달러로 증가추세다. 아직은 전체 매출에서 차지하는 비중이 작지만 메타가 추진하는 메타버스 사업이 조금씩 궤도에 오르고 있다는 방증이다.\n",
    "지난해 수천억 썼다…한국도 메타버스 '총력전'\n",
    "\n",
    "메타의 어닝쇼크를 바라보는 국내 IT·게임업계 시선은 복잡하다. 메타버스는 거스를 수 없는 흐름이라는 데 동의하면서도 자칫 공격적인 투자가 부메랑이 돼 돌아올까 우려하는 모습이다.\n",
    "\n",
    "---\n",
    "***플랫폼 사업은 수년간의 기술투자가 필요한데, 자칫 이번 일로 메타버스 사업에 대한 시장 기대감이 꺾여 투자가 위축될 수 있다는 지적도 제기된다.***\n",
    "\n",
    "---\n",
    "***메타버스가 차세대 플랫폼으로 각광받으면서 국내 IT·게임업계도 관련 투자를 강화하고 있다.***\n",
    "\n",
    "---\n",
    "아시아 최대 메타버스 플랫폼 '제페토'를 운영 중인 네이버는 또다른 메타버스 생태계 '아크버스'를 선보인다. 카카오 새 사령탑에 오른 남궁훈 미래이니셔티브 센터장도 골목상권 침해 등 일련의 논란 돌파구로 메타버스를 낙점했다. 그는 \"메타버스를 중심으로 기업을 개편해 새 땅을 개척하는 것이 국민 요구와 카카오의 창업정신을 모두 지키는 일\"이라고 강조했다.\n",
    "\n",
    "방준혁 넷마블 의장도 4년 만에 열린 경영전략 발표회(NTP)에서 게임과 메타버스·블록체인을 융합해 '가상을 넘어선 두 번째 현실'을 구현하겠다고 강조했다. 메타버스 사업이 될지 안될지를 재는 시기는 지났다는 게 방 의장의 판단이다. 이미 넷마블은 손자회사 메타버스엔터테인먼트를 설립하고 관련 사업을 추진 중이다. 지난해 메타버스 연계 기업에 3500억원 규모의 투자를 단행한 컴투스 위지윅스튜디오와 함께 '컴투버스'를 준비하고 있다.\n",
    "\"메타버스 시대 올때까지 버텨줄 본업 경쟁력 중요\"\n",
    "다만, 메타버스가 수익성으로 연결되기까진 시간이 필요해 보인다. 2018년 제페토를 출시한 네이버제트 역시 2020년 86억4646만원 매출에 188억9706만원 영업손실을 기록한 게 대표적이다. 지난해 400억원대 매출을 올렸을 것으로 예상되지만 영업손실은 여전해 보인다.\n",
    "\n",
    "이런 점에서 본업 경쟁력이 메타버스 성패를 가를 것이란 진단도 있다. 본업이 실적을 탄탄히 받쳐줘야 신사업 투자가 가능해서다.\n",
    "\n",
    "게임업계 한 관계자는 \"메타의 주가 급락은 메타버스 사업의 불확실성이라기보단 기존 페이스북의 실적 부진에 기인한 것이 더 크다\"라며 \"메타버스 사업이 신규 수익창출원이 되기까진 다소 시간이 걸리겠지만 모든 플랫폼 사업엔 선점 효과가 절대적인 만큼, 메타버스에 최적화된 글로벌 게임사를 향한 구애도 계속될 것\"이라고 말했다.\n",
    "\n",
    "IT업계 관계자는 \"플랫폼은 5~10년 선투자하고 돈은 나중에 버는 사업인데, 메타는 SNS 수익성이 정체된 상황에서 새로운 사업으로 방향을 전환하다 보니 난국에 처했다\"라고 말했다. 이어 \"구글 모회사인 알파벳은 이번에 어닝서프라이즈를 기록했는데, SNS와 달리 검색은 유행을 타지 않기 때문\"이라며 \"장시간의 투자를 받쳐줄 수 있는 환경이 중요하다\"고 강조했다.\n",
    "\n",
    "또다른 관계자는 \"PC에서 모바일로 전환했듯 메타버스는 거스를 수 없는 흐름\"이라며 \"엄청나게 투자했다가 폭삭 망하면 리스크가 클 수 있지만, 현재로서는 단기적인 실적보다는 변화된 세상에 어떻게 적응할 것이냐에 대한 거시적 고민이 더 깊은 단계\"라고 귀띔했다.\n",
    "\n",
    "## 위에 보이는 것 처럼 3문장으로 표시해주거나 3줄로 요약을 해주는 것이 추출적요약이다\n",
    "# 이렇게 많은 기사 내용 중에서 #*** 핵심 3문장을 뽑아내는 기술 ***"
   ]
  },
  {
   "cell_type": "markdown",
   "id": "66f2064d",
   "metadata": {},
   "source": [
    "## Q.그럼 추상적 요약은 뭘까요?\n",
    "\n",
    "### 추상적 요약(Abstractive Summarization)\n",
    "\n",
    "- #### 원문으로부터 내용이 요약된 새로운 문장을 생성 - 원문에 없던 문장일 수도 있다\n",
    "\n",
    "- #### 추출요약과 가장 다른 점이기도 한 바로 이것은 새로운 문장을 생성하는 것이다.\n",
    "\n",
    "- #### 자연어 처리 분야 중 자연어 생성(Natural Language Generation, NLG)의 영역\n",
    "\n",
    "- #### 추출적 요약은 원문을 구성하는 문장 중 어느 것이 요약문에 들어갈 핵심문장인지를 판별한다는 점에서 문장 분류(Text Classification) 문제로 볼 수 있다\n",
    "\n",
    "- #### 자연어 생성에서 가장 기본적인 신경망 - RNN\n",
    "\n",
    "---\n",
    "장기 의존성(long term dependencies) 문제\n",
    "RNN은 학습 데이터의 길이가 길어질수록 먼 과거의 정보를 현재에 전달하기 어렵다는 문제가 있습니다. 이 문제를 해결하기 위해 LSTM과 GRU가 등장했고, 이 둘도 부족해서 어텐션(Attention) 메커니즘이 등장\n",
    "\n",
    "---\n",
    "\n",
    "RNN을 이용해 Language Generation을 한다고 해서 긴 문장을 읽고 나서 요약문을 뚝딱 만들어내긴 어렵겠죠. ML 분야의 선구자 '구글(Google)'은 자신들의 서비스에 어떤 방식으로 텍스트 요약을 시도했었을까요? \n",
    "\n",
    "---\n",
    "2016년도에 텐서플로우를 활용해서 텍스트 요약\n",
    "\n",
    "Text summarization with TensorFlow(TensorFlow를 사용한 텍스트 요약)\n",
    "\n",
    "Extractive and Abstractive summarization\n",
    "\n",
    "\n",
    "Original Text: Alice and Bob took the train to visit the zoo. They saw a baby giraffe, a lion, and a flock of colorful tropical birds. \n",
    "Extractive Summary: Alice and Bob visit the zoo. saw a flock of birds.\n",
    "\n",
    "원문: 앨리스와 밥은 동물원을 방문하기 위해 기차를 탔다. 그들은 아기 기린, 사자, 그리고 다채로운 열대 새들을 보았다. \n",
    "추출 요약: 앨리스와 밥은 동물원을 방문했다. 새떼를 보았다.\n",
    "\n",
    "---\n",
    "\n",
    "Q2. 구글에서 텍스트 요약을 위해 시도했던 접근법 중에, 텍스트마이닝 분야의 '역문서빈도(IDF)같은' 지표를 활용해 문서 안에서 중요해 보이는 부분을 추출하고 그걸 요약문에 담는 방식을 썼을 때의 문제점은 무엇이었나요?\n",
    "A2. 원문에서 발췌하는 방식(Extractive summarization)의 요약 기법은 어색하거나 문법적으로 이상한 결과물을 만드는 문제가 있음\n",
    "\n",
    "\n",
    "Q3. 구글은 짧은 문장. 요약문을 생성하는 모델을 딥 러닝을 통해 end-to-end로 설계하도록 했어요. 구글이 메일서비스에 적용한 자동 회신(Smart Reply) 기능을 만든 것과 비슷한 딥러닝 기법이기도 한 인코더와 디코더의 구조로 구성된 이 딥 러닝 아키텍처(구조)의 이름은 무엇일까요?\n",
    "\n",
    "**seq2seq(sequence-to-sequence)**\n",
    "\n",
    "\n"
   ]
  },
  {
   "cell_type": "markdown",
   "id": "d42f1a6f",
   "metadata": {},
   "source": [
    "# 필요한 패키지 설치\n",
    "- 본격적인 시작"
   ]
  },
  {
   "cell_type": "code",
   "execution_count": 4,
   "id": "17426dfe",
   "metadata": {
    "scrolled": true
   },
   "outputs": [
    {
     "name": "stderr",
     "output_type": "stream",
     "text": [
      "[nltk_data] Downloading package stopwords to /aiffel/nltk_data...\n",
      "[nltk_data]   Unzipping corpora/stopwords.zip.\n"
     ]
    },
    {
     "name": "stdout",
     "output_type": "stream",
     "text": [
      "성공\n"
     ]
    }
   ],
   "source": [
    "import nltk\n",
    "nltk.download('stopwords')\n",
    "\n",
    "import numpy as np\n",
    "import pandas as pd\n",
    "import os\n",
    "import re\n",
    "import matplotlib.pyplot as plt\n",
    "from nltk.corpus import stopwords\n",
    "from bs4 import BeautifulSoup \n",
    "from tensorflow.keras.preprocessing.text import Tokenizer \n",
    "from tensorflow.keras.preprocessing.sequence import pad_sequences\n",
    "import urllib.request\n",
    "import warnings\n",
    "warnings.filterwarnings(\"ignore\", category=UserWarning, module='bs4')\n",
    "\n",
    "\n",
    "print('성공')"
   ]
  },
  {
   "cell_type": "markdown",
   "id": "2b5faeba",
   "metadata": {},
   "source": [
    "# 샘플수 확인"
   ]
  },
  {
   "cell_type": "code",
   "execution_count": 5,
   "id": "3bb5a11d",
   "metadata": {},
   "outputs": [
    {
     "name": "stdout",
     "output_type": "stream",
     "text": [
      "전체 샘플수 : 98401\n"
     ]
    }
   ],
   "source": [
    "import urllib.request\n",
    "urllib.request.urlretrieve(\"https://raw.githubusercontent.com/sunnysai12345/News_Summary/master/news_summary_more.csv\", filename=\"news_summary_more.csv\")\n",
    "data = pd.read_csv(os.getenv(\"HOME\")+\"/aiffel/news_summarization/data/news_summary_more.csv\", nrows=100000)\n",
    "print('전체 샘플수 :', (len(data)))"
   ]
  },
  {
   "cell_type": "code",
   "execution_count": 4,
   "id": "1f531f0a",
   "metadata": {
    "scrolled": true
   },
   "outputs": [
    {
     "data": {
      "text/html": [
       "<div>\n",
       "<style scoped>\n",
       "    .dataframe tbody tr th:only-of-type {\n",
       "        vertical-align: middle;\n",
       "    }\n",
       "\n",
       "    .dataframe tbody tr th {\n",
       "        vertical-align: top;\n",
       "    }\n",
       "\n",
       "    .dataframe thead th {\n",
       "        text-align: right;\n",
       "    }\n",
       "</style>\n",
       "<table border=\"1\" class=\"dataframe\">\n",
       "  <thead>\n",
       "    <tr style=\"text-align: right;\">\n",
       "      <th></th>\n",
       "      <th>headlines</th>\n",
       "      <th>text</th>\n",
       "    </tr>\n",
       "  </thead>\n",
       "  <tbody>\n",
       "    <tr>\n",
       "      <th>0</th>\n",
       "      <td>upGrad learner switches to career in ML &amp; Al w...</td>\n",
       "      <td>Saurav Kant, an alumnus of upGrad and IIIT-B's...</td>\n",
       "    </tr>\n",
       "    <tr>\n",
       "      <th>1</th>\n",
       "      <td>Delhi techie wins free food from Swiggy for on...</td>\n",
       "      <td>Kunal Shah's credit card bill payment platform...</td>\n",
       "    </tr>\n",
       "    <tr>\n",
       "      <th>2</th>\n",
       "      <td>New Zealand end Rohit Sharma-led India's 12-ma...</td>\n",
       "      <td>New Zealand defeated India by 8 wickets in the...</td>\n",
       "    </tr>\n",
       "    <tr>\n",
       "      <th>3</th>\n",
       "      <td>Aegon life iTerm insurance plan helps customer...</td>\n",
       "      <td>With Aegon Life iTerm Insurance plan, customer...</td>\n",
       "    </tr>\n",
       "    <tr>\n",
       "      <th>4</th>\n",
       "      <td>Have known Hirani for yrs, what if MeToo claim...</td>\n",
       "      <td>Speaking about the sexual harassment allegatio...</td>\n",
       "    </tr>\n",
       "  </tbody>\n",
       "</table>\n",
       "</div>"
      ],
      "text/plain": [
       "                                           headlines  \\\n",
       "0  upGrad learner switches to career in ML & Al w...   \n",
       "1  Delhi techie wins free food from Swiggy for on...   \n",
       "2  New Zealand end Rohit Sharma-led India's 12-ma...   \n",
       "3  Aegon life iTerm insurance plan helps customer...   \n",
       "4  Have known Hirani for yrs, what if MeToo claim...   \n",
       "\n",
       "                                                text  \n",
       "0  Saurav Kant, an alumnus of upGrad and IIIT-B's...  \n",
       "1  Kunal Shah's credit card bill payment platform...  \n",
       "2  New Zealand defeated India by 8 wickets in the...  \n",
       "3  With Aegon Life iTerm Insurance plan, customer...  \n",
       "4  Speaking about the sexual harassment allegatio...  "
      ]
     },
     "execution_count": 4,
     "metadata": {},
     "output_type": "execute_result"
    }
   ],
   "source": [
    "data.head()"
   ]
  },
  {
   "cell_type": "code",
   "execution_count": 5,
   "id": "cc7fc6f4",
   "metadata": {},
   "outputs": [
    {
     "data": {
      "text/html": [
       "<div>\n",
       "<style scoped>\n",
       "    .dataframe tbody tr th:only-of-type {\n",
       "        vertical-align: middle;\n",
       "    }\n",
       "\n",
       "    .dataframe tbody tr th {\n",
       "        vertical-align: top;\n",
       "    }\n",
       "\n",
       "    .dataframe thead th {\n",
       "        text-align: right;\n",
       "    }\n",
       "</style>\n",
       "<table border=\"1\" class=\"dataframe\">\n",
       "  <thead>\n",
       "    <tr style=\"text-align: right;\">\n",
       "      <th></th>\n",
       "      <th>headlines</th>\n",
       "      <th>text</th>\n",
       "    </tr>\n",
       "  </thead>\n",
       "  <tbody>\n",
       "    <tr>\n",
       "      <th>66166</th>\n",
       "      <td>Honeypreet directed aides to upload anti-India...</td>\n",
       "      <td>The SIT has informed Panchkula court that Hone...</td>\n",
       "    </tr>\n",
       "    <tr>\n",
       "      <th>18809</th>\n",
       "      <td>Twitter CEO personally taking calls on account...</td>\n",
       "      <td>Twitter CEO Jack Dorsey has been personally ta...</td>\n",
       "    </tr>\n",
       "    <tr>\n",
       "      <th>52350</th>\n",
       "      <td>Company makes mechanical watch that pairs with...</td>\n",
       "      <td>Belgian watch manufacturer Ressence has develo...</td>\n",
       "    </tr>\n",
       "    <tr>\n",
       "      <th>82892</th>\n",
       "      <td>CBI to give â¹10 lakh for info on missing JNU...</td>\n",
       "      <td>The Central Bureau of Investigation (CBI) on T...</td>\n",
       "    </tr>\n",
       "    <tr>\n",
       "      <th>48470</th>\n",
       "      <td>Just because we're popular, world knows our do...</td>\n",
       "      <td>Actor-comedian Kapil Sharma has said that ever...</td>\n",
       "    </tr>\n",
       "    <tr>\n",
       "      <th>14528</th>\n",
       "      <td>I would do very well in boxing match against P...</td>\n",
       "      <td>US President Donald Trump has said that he wou...</td>\n",
       "    </tr>\n",
       "    <tr>\n",
       "      <th>68147</th>\n",
       "      <td>Ukrainian Army warehouse explosions forces 30,...</td>\n",
       "      <td>Over 30,000 people were evacuated following ma...</td>\n",
       "    </tr>\n",
       "    <tr>\n",
       "      <th>81316</th>\n",
       "      <td>Sara is a beautiful bundle of energy: 'Kedarna...</td>\n",
       "      <td>Abhishek Kapoor, director of Sara Ali Khan's d...</td>\n",
       "    </tr>\n",
       "    <tr>\n",
       "      <th>95399</th>\n",
       "      <td>Prashant Bhushan calls Lord Krishna 'legendary...</td>\n",
       "      <td>Asserting that Romeo loved just one lady, advo...</td>\n",
       "    </tr>\n",
       "    <tr>\n",
       "      <th>40790</th>\n",
       "      <td>Warner to do million-dollar interview on tampe...</td>\n",
       "      <td>Ex-Australian vice-captain David Warner will r...</td>\n",
       "    </tr>\n",
       "    <tr>\n",
       "      <th>58454</th>\n",
       "      <td>Sunny Leone, Arbaaz Khan starrer Tera Intezaar...</td>\n",
       "      <td>Sunny Leone and Arbaaz Khan starrer 'Tera Inte...</td>\n",
       "    </tr>\n",
       "    <tr>\n",
       "      <th>68672</th>\n",
       "      <td>Mumbaiâ?s 51st cadaver donation saves 4 lives</td>\n",
       "      <td>Organs retrieved from a 26-year-old engineer, ...</td>\n",
       "    </tr>\n",
       "    <tr>\n",
       "      <th>96138</th>\n",
       "      <td>Change working style: UP CM tells police offic...</td>\n",
       "      <td>Uttar Pradesh CM Yogi Adityanath on Wednesday ...</td>\n",
       "    </tr>\n",
       "    <tr>\n",
       "      <th>2964</th>\n",
       "      <td>Azam Khan demands 5% reservation for Muslim co...</td>\n",
       "      <td>Samajwadi Party leader Azam Khan has demanded ...</td>\n",
       "    </tr>\n",
       "    <tr>\n",
       "      <th>83592</th>\n",
       "      <td>PM Modi will convey role of Indian IT firms to...</td>\n",
       "      <td>Infosys CEO Vishal Sikka said PM Modi would co...</td>\n",
       "    </tr>\n",
       "  </tbody>\n",
       "</table>\n",
       "</div>"
      ],
      "text/plain": [
       "                                               headlines  \\\n",
       "66166  Honeypreet directed aides to upload anti-India...   \n",
       "18809  Twitter CEO personally taking calls on account...   \n",
       "52350  Company makes mechanical watch that pairs with...   \n",
       "82892  CBI to give â¹10 lakh for info on missing JNU...   \n",
       "48470  Just because we're popular, world knows our do...   \n",
       "14528  I would do very well in boxing match against P...   \n",
       "68147  Ukrainian Army warehouse explosions forces 30,...   \n",
       "81316  Sara is a beautiful bundle of energy: 'Kedarna...   \n",
       "95399  Prashant Bhushan calls Lord Krishna 'legendary...   \n",
       "40790  Warner to do million-dollar interview on tampe...   \n",
       "58454  Sunny Leone, Arbaaz Khan starrer Tera Intezaar...   \n",
       "68672     Mumbaiâ?s 51st cadaver donation saves 4 lives   \n",
       "96138  Change working style: UP CM tells police offic...   \n",
       "2964   Azam Khan demands 5% reservation for Muslim co...   \n",
       "83592  PM Modi will convey role of Indian IT firms to...   \n",
       "\n",
       "                                                    text  \n",
       "66166  The SIT has informed Panchkula court that Hone...  \n",
       "18809  Twitter CEO Jack Dorsey has been personally ta...  \n",
       "52350  Belgian watch manufacturer Ressence has develo...  \n",
       "82892  The Central Bureau of Investigation (CBI) on T...  \n",
       "48470  Actor-comedian Kapil Sharma has said that ever...  \n",
       "14528  US President Donald Trump has said that he wou...  \n",
       "68147  Over 30,000 people were evacuated following ma...  \n",
       "81316  Abhishek Kapoor, director of Sara Ali Khan's d...  \n",
       "95399  Asserting that Romeo loved just one lady, advo...  \n",
       "40790  Ex-Australian vice-captain David Warner will r...  \n",
       "58454  Sunny Leone and Arbaaz Khan starrer 'Tera Inte...  \n",
       "68672  Organs retrieved from a 26-year-old engineer, ...  \n",
       "96138  Uttar Pradesh CM Yogi Adityanath on Wednesday ...  \n",
       "2964   Samajwadi Party leader Azam Khan has demanded ...  \n",
       "83592  Infosys CEO Vishal Sikka said PM Modi would co...  "
      ]
     },
     "execution_count": 5,
     "metadata": {},
     "output_type": "execute_result"
    }
   ],
   "source": [
    "#랜덤한 15개 샘플 출력\n",
    "data.sample(15)"
   ]
  },
  {
   "cell_type": "code",
   "execution_count": 6,
   "id": "82793fc8",
   "metadata": {},
   "outputs": [
    {
     "data": {
      "text/html": [
       "<div>\n",
       "<style scoped>\n",
       "    .dataframe tbody tr th:only-of-type {\n",
       "        vertical-align: middle;\n",
       "    }\n",
       "\n",
       "    .dataframe tbody tr th {\n",
       "        vertical-align: top;\n",
       "    }\n",
       "\n",
       "    .dataframe thead th {\n",
       "        text-align: right;\n",
       "    }\n",
       "</style>\n",
       "<table border=\"1\" class=\"dataframe\">\n",
       "  <thead>\n",
       "    <tr style=\"text-align: right;\">\n",
       "      <th></th>\n",
       "      <th>headlines</th>\n",
       "      <th>text</th>\n",
       "    </tr>\n",
       "  </thead>\n",
       "  <tbody>\n",
       "    <tr>\n",
       "      <th>35347</th>\n",
       "      <td>Karti gets protection till May 2 in Aircel-Max...</td>\n",
       "      <td>A Delhi court on Monday extended interim prote...</td>\n",
       "    </tr>\n",
       "    <tr>\n",
       "      <th>78750</th>\n",
       "      <td>Tata Steel looking to acquire firms in RBI's b...</td>\n",
       "      <td>Tata Steel is closely following the insolvency...</td>\n",
       "    </tr>\n",
       "    <tr>\n",
       "      <th>81207</th>\n",
       "      <td>19-year-old from US wins lottery twice in a week</td>\n",
       "      <td>Nineteen-year-old Rosa Dominguez from Californ...</td>\n",
       "    </tr>\n",
       "    <tr>\n",
       "      <th>3856</th>\n",
       "      <td>Hungry anyone? Deepika on dosa named after her...</td>\n",
       "      <td>Deepika Padukone has shared the picture of a U...</td>\n",
       "    </tr>\n",
       "    <tr>\n",
       "      <th>10618</th>\n",
       "      <td>Virgin Hyperloop One hires new CEO, board chai...</td>\n",
       "      <td>Virgin Hyperloop One on Thursday announced it ...</td>\n",
       "    </tr>\n",
       "    <tr>\n",
       "      <th>74700</th>\n",
       "      <td>TTV Dhinakaran meets Sasikala in jail on her b...</td>\n",
       "      <td>AIADMK Amma's deputy chief TTV Dhinakaran on F...</td>\n",
       "    </tr>\n",
       "    <tr>\n",
       "      <th>80888</th>\n",
       "      <td>No red carpets, special towels, sofas: Yogi wa...</td>\n",
       "      <td>UP Chief Minister Yogi Adityanath has banned r...</td>\n",
       "    </tr>\n",
       "    <tr>\n",
       "      <th>12415</th>\n",
       "      <td>Won't rest till MP CM thrown out: Ex-minister ...</td>\n",
       "      <td>Weeks after resigning as a Madhya Pradesh Mini...</td>\n",
       "    </tr>\n",
       "    <tr>\n",
       "      <th>84959</th>\n",
       "      <td>Malaika shares old pic of herself with her son...</td>\n",
       "      <td>Actress Malaika Arora Khan has shared an old p...</td>\n",
       "    </tr>\n",
       "    <tr>\n",
       "      <th>44484</th>\n",
       "      <td>Russian state TV warns 'traitors' against livi...</td>\n",
       "      <td>Russian state television has warned the countr...</td>\n",
       "    </tr>\n",
       "    <tr>\n",
       "      <th>57504</th>\n",
       "      <td>Cong playing with Hindu belief: Yogi on Babri ...</td>\n",
       "      <td>Responding to advocate and Congress MP Kapil S...</td>\n",
       "    </tr>\n",
       "    <tr>\n",
       "      <th>9801</th>\n",
       "      <td>Kumar Mangalam Birla's son Aryaman slams his 1...</td>\n",
       "      <td>Aryaman Birla, son of industrialist Kumar Mang...</td>\n",
       "    </tr>\n",
       "    <tr>\n",
       "      <th>82392</th>\n",
       "      <td>Noida man assaulted for objecting to public ur...</td>\n",
       "      <td>A 32-year-old man on Thursday was allegedly ch...</td>\n",
       "    </tr>\n",
       "    <tr>\n",
       "      <th>29176</th>\n",
       "      <td>Liverpool keeper gets death threats for mistak...</td>\n",
       "      <td>Goalkeeper Loris Karius was subjected to death...</td>\n",
       "    </tr>\n",
       "    <tr>\n",
       "      <th>69592</th>\n",
       "      <td>US startup apologises for response to sexual h...</td>\n",
       "      <td>US-based virtual reality startup UploadVR's fo...</td>\n",
       "    </tr>\n",
       "  </tbody>\n",
       "</table>\n",
       "</div>"
      ],
      "text/plain": [
       "                                               headlines  \\\n",
       "35347  Karti gets protection till May 2 in Aircel-Max...   \n",
       "78750  Tata Steel looking to acquire firms in RBI's b...   \n",
       "81207   19-year-old from US wins lottery twice in a week   \n",
       "3856   Hungry anyone? Deepika on dosa named after her...   \n",
       "10618  Virgin Hyperloop One hires new CEO, board chai...   \n",
       "74700  TTV Dhinakaran meets Sasikala in jail on her b...   \n",
       "80888  No red carpets, special towels, sofas: Yogi wa...   \n",
       "12415  Won't rest till MP CM thrown out: Ex-minister ...   \n",
       "84959  Malaika shares old pic of herself with her son...   \n",
       "44484  Russian state TV warns 'traitors' against livi...   \n",
       "57504  Cong playing with Hindu belief: Yogi on Babri ...   \n",
       "9801   Kumar Mangalam Birla's son Aryaman slams his 1...   \n",
       "82392  Noida man assaulted for objecting to public ur...   \n",
       "29176  Liverpool keeper gets death threats for mistak...   \n",
       "69592  US startup apologises for response to sexual h...   \n",
       "\n",
       "                                                    text  \n",
       "35347  A Delhi court on Monday extended interim prote...  \n",
       "78750  Tata Steel is closely following the insolvency...  \n",
       "81207  Nineteen-year-old Rosa Dominguez from Californ...  \n",
       "3856   Deepika Padukone has shared the picture of a U...  \n",
       "10618  Virgin Hyperloop One on Thursday announced it ...  \n",
       "74700  AIADMK Amma's deputy chief TTV Dhinakaran on F...  \n",
       "80888  UP Chief Minister Yogi Adityanath has banned r...  \n",
       "12415  Weeks after resigning as a Madhya Pradesh Mini...  \n",
       "84959  Actress Malaika Arora Khan has shared an old p...  \n",
       "44484  Russian state television has warned the countr...  \n",
       "57504  Responding to advocate and Congress MP Kapil S...  \n",
       "9801   Aryaman Birla, son of industrialist Kumar Mang...  \n",
       "82392  A 32-year-old man on Thursday was allegedly ch...  \n",
       "29176  Goalkeeper Loris Karius was subjected to death...  \n",
       "69592  US-based virtual reality startup UploadVR's fo...  "
      ]
     },
     "execution_count": 6,
     "metadata": {},
     "output_type": "execute_result"
    }
   ],
   "source": [
    "data = data[['headlines','text']]\n",
    "data.head()\n",
    "\n",
    "#랜덤한 15개 샘플 출력\n",
    "data.sample(15)"
   ]
  },
  {
   "cell_type": "markdown",
   "id": "f4e3ef06",
   "metadata": {},
   "source": [
    "# 데이터 전처리\n",
    "\n",
    "## 중복 샘플과 NULL 값이 존재하는 샘플 제거\n",
    "\n",
    "---"
   ]
  },
  {
   "cell_type": "code",
   "execution_count": 7,
   "id": "0f6e7acb",
   "metadata": {},
   "outputs": [
    {
     "name": "stdout",
     "output_type": "stream",
     "text": [
      "text 열에서 중복을 배제한 유일한 샘플의 수 : 98360\n",
      "headlines 열에서 중복을 배제한 유일한 샘플의 수 : 98280\n"
     ]
    }
   ],
   "source": [
    "print('text 열에서 중복을 배제한 유일한 샘플의 수 :', data['text'].nunique())\n",
    "print('headlines 열에서 중복을 배제한 유일한 샘플의 수 :', data['headlines'].nunique())"
   ]
  },
  {
   "cell_type": "code",
   "execution_count": 8,
   "id": "d552619a",
   "metadata": {},
   "outputs": [
    {
     "name": "stdout",
     "output_type": "stream",
     "text": [
      "전체 샘플수 : 98360\n"
     ]
    }
   ],
   "source": [
    "# inplace=True 를 설정하면 DataFrame 타입 값을 return 하지 않고 data 내부를 직접적으로 바꿉니다\n",
    "data.drop_duplicates(subset = ['text'], inplace=True)\n",
    "print('전체 샘플수 :', (len(data)))"
   ]
  },
  {
   "cell_type": "code",
   "execution_count": 9,
   "id": "f63d5b73",
   "metadata": {},
   "outputs": [
    {
     "name": "stdout",
     "output_type": "stream",
     "text": [
      "headlines    0\n",
      "text         0\n",
      "dtype: int64\n"
     ]
    }
   ],
   "source": [
    "print(data.isnull().sum())"
   ]
  },
  {
   "cell_type": "code",
   "execution_count": 10,
   "id": "d53d5db3",
   "metadata": {},
   "outputs": [
    {
     "name": "stdout",
     "output_type": "stream",
     "text": [
      "전체 샘플수 : 98360\n"
     ]
    }
   ],
   "source": [
    "data.dropna(axis=0, inplace=True)\n",
    "print('전체 샘플수 :', (len(data)))"
   ]
  },
  {
   "cell_type": "markdown",
   "id": "b60ee6c0",
   "metadata": {},
   "source": [
    "# 텍스트 정규화와 불용어 제거"
   ]
  },
  {
   "cell_type": "code",
   "execution_count": 11,
   "id": "2b8dd7d2",
   "metadata": {},
   "outputs": [
    {
     "name": "stdout",
     "output_type": "stream",
     "text": [
      "정규화 사전의 수:  120\n"
     ]
    }
   ],
   "source": [
    "contractions = {\"ain't\": \"is not\", \"aren't\": \"are not\",\"can't\": \"cannot\", \"'cause\": \"because\", \"could've\": \"could have\", \"couldn't\": \"could not\",\n",
    "                           \"didn't\": \"did not\",  \"doesn't\": \"does not\", \"don't\": \"do not\", \"hadn't\": \"had not\", \"hasn't\": \"has not\", \"haven't\": \"have not\",\n",
    "                           \"he'd\": \"he would\",\"he'll\": \"he will\", \"he's\": \"he is\", \"how'd\": \"how did\", \"how'd'y\": \"how do you\", \"how'll\": \"how will\", \"how's\": \"how is\",\n",
    "                           \"I'd\": \"I would\", \"I'd've\": \"I would have\", \"I'll\": \"I will\", \"I'll've\": \"I will have\",\"I'm\": \"I am\", \"I've\": \"I have\", \"i'd\": \"i would\",\n",
    "                           \"i'd've\": \"i would have\", \"i'll\": \"i will\",  \"i'll've\": \"i will have\",\"i'm\": \"i am\", \"i've\": \"i have\", \"isn't\": \"is not\", \"it'd\": \"it would\",\n",
    "                           \"it'd've\": \"it would have\", \"it'll\": \"it will\", \"it'll've\": \"it will have\",\"it's\": \"it is\", \"let's\": \"let us\", \"ma'am\": \"madam\",\n",
    "                           \"mayn't\": \"may not\", \"might've\": \"might have\",\"mightn't\": \"might not\",\"mightn't've\": \"might not have\", \"must've\": \"must have\",\n",
    "                           \"mustn't\": \"must not\", \"mustn't've\": \"must not have\", \"needn't\": \"need not\", \"needn't've\": \"need not have\",\"o'clock\": \"of the clock\",\n",
    "                           \"oughtn't\": \"ought not\", \"oughtn't've\": \"ought not have\", \"shan't\": \"shall not\", \"sha'n't\": \"shall not\", \"shan't've\": \"shall not have\",\n",
    "                           \"she'd\": \"she would\", \"she'd've\": \"she would have\", \"she'll\": \"she will\", \"she'll've\": \"she will have\", \"she's\": \"she is\",\n",
    "                           \"should've\": \"should have\", \"shouldn't\": \"should not\", \"shouldn't've\": \"should not have\", \"so've\": \"so have\",\"so's\": \"so as\",\n",
    "                           \"this's\": \"this is\",\"that'd\": \"that would\", \"that'd've\": \"that would have\", \"that's\": \"that is\", \"there'd\": \"there would\",\n",
    "                           \"there'd've\": \"there would have\", \"there's\": \"there is\", \"here's\": \"here is\",\"they'd\": \"they would\", \"they'd've\": \"they would have\",\n",
    "                           \"they'll\": \"they will\", \"they'll've\": \"they will have\", \"they're\": \"they are\", \"they've\": \"they have\", \"to've\": \"to have\",\n",
    "                           \"wasn't\": \"was not\", \"we'd\": \"we would\", \"we'd've\": \"we would have\", \"we'll\": \"we will\", \"we'll've\": \"we will have\", \"we're\": \"we are\",\n",
    "                           \"we've\": \"we have\", \"weren't\": \"were not\", \"what'll\": \"what will\", \"what'll've\": \"what will have\", \"what're\": \"what are\",\n",
    "                           \"what's\": \"what is\", \"what've\": \"what have\", \"when's\": \"when is\", \"when've\": \"when have\", \"where'd\": \"where did\", \"where's\": \"where is\",\n",
    "                           \"where've\": \"where have\", \"who'll\": \"who will\", \"who'll've\": \"who will have\", \"who's\": \"who is\", \"who've\": \"who have\",\n",
    "                           \"why's\": \"why is\", \"why've\": \"why have\", \"will've\": \"will have\", \"won't\": \"will not\", \"won't've\": \"will not have\",\n",
    "                           \"would've\": \"would have\", \"wouldn't\": \"would not\", \"wouldn't've\": \"would not have\", \"y'all\": \"you all\",\n",
    "                           \"y'all'd\": \"you all would\",\"y'all'd've\": \"you all would have\",\"y'all're\": \"you all are\",\"y'all've\": \"you all have\",\n",
    "                           \"you'd\": \"you would\", \"you'd've\": \"you would have\", \"you'll\": \"you will\", \"you'll've\": \"you will have\",\n",
    "                           \"you're\": \"you are\", \"you've\": \"you have\"}\n",
    "\n",
    "print(\"정규화 사전의 수: \", len(contractions))"
   ]
  },
  {
   "cell_type": "code",
   "execution_count": 12,
   "id": "a4535a4e",
   "metadata": {},
   "outputs": [
    {
     "name": "stdout",
     "output_type": "stream",
     "text": [
      "불용어 개수 : 179\n",
      "['i', 'me', 'my', 'myself', 'we', 'our', 'ours', 'ourselves', 'you', \"you're\", \"you've\", \"you'll\", \"you'd\", 'your', 'yours', 'yourself', 'yourselves', 'he', 'him', 'his', 'himself', 'she', \"she's\", 'her', 'hers', 'herself', 'it', \"it's\", 'its', 'itself', 'they', 'them', 'their', 'theirs', 'themselves', 'what', 'which', 'who', 'whom', 'this', 'that', \"that'll\", 'these', 'those', 'am', 'is', 'are', 'was', 'were', 'be', 'been', 'being', 'have', 'has', 'had', 'having', 'do', 'does', 'did', 'doing', 'a', 'an', 'the', 'and', 'but', 'if', 'or', 'because', 'as', 'until', 'while', 'of', 'at', 'by', 'for', 'with', 'about', 'against', 'between', 'into', 'through', 'during', 'before', 'after', 'above', 'below', 'to', 'from', 'up', 'down', 'in', 'out', 'on', 'off', 'over', 'under', 'again', 'further', 'then', 'once', 'here', 'there', 'when', 'where', 'why', 'how', 'all', 'any', 'both', 'each', 'few', 'more', 'most', 'other', 'some', 'such', 'no', 'nor', 'not', 'only', 'own', 'same', 'so', 'than', 'too', 'very', 's', 't', 'can', 'will', 'just', 'don', \"don't\", 'should', \"should've\", 'now', 'd', 'll', 'm', 'o', 're', 've', 'y', 'ain', 'aren', \"aren't\", 'couldn', \"couldn't\", 'didn', \"didn't\", 'doesn', \"doesn't\", 'hadn', \"hadn't\", 'hasn', \"hasn't\", 'haven', \"haven't\", 'isn', \"isn't\", 'ma', 'mightn', \"mightn't\", 'mustn', \"mustn't\", 'needn', \"needn't\", 'shan', \"shan't\", 'shouldn', \"shouldn't\", 'wasn', \"wasn't\", 'weren', \"weren't\", 'won', \"won't\", 'wouldn', \"wouldn't\"]\n",
      "불용어 처리 한 후 개수 120\n"
     ]
    }
   ],
   "source": [
    "print('불용어 개수 :', len(stopwords.words('english') ))\n",
    "print(stopwords.words('english'))\n",
    "print('불용어 처리 한 후 개수',len(contractions))"
   ]
  },
  {
   "cell_type": "code",
   "execution_count": 13,
   "id": "988bd1d7",
   "metadata": {},
   "outputs": [
    {
     "name": "stdout",
     "output_type": "stream",
     "text": [
      "데이터 전처리, 불용어 제거, 불용어 미제거\n"
     ]
    }
   ],
   "source": [
    "# 데이터 전처리 함수\n",
    "def preprocess_sentence(sentence, remove_stopwords=True):\n",
    "    sentence = sentence.lower() # 텍스트 소문자화\n",
    "    sentence = BeautifulSoup(sentence, \"lxml\").text # <br />, <a href = ...> 등의 html 태그 제거\n",
    "    sentence = re.sub(r'\\([^)]*\\)', '', sentence) # 괄호로 닫힌 문자열 (...) 제거 Ex) my husband (and myself!) for => my husband for\n",
    "    sentence = re.sub('\"','', sentence) # 쌍따옴표 \" 제거\n",
    "    sentence = ' '.join([contractions[t] if t in contractions else t for t in sentence.split(\" \")]) # 약어 정규화\n",
    "    sentence = re.sub(r\"'s\\b\",\"\", sentence) # 소유격 제거. Ex) roland's -> roland\n",
    "    sentence = re.sub(\"[^a-zA-Z]\", \" \", sentence) # 영어 외 문자(숫자, 특수문자 등) 공백으로 변환\n",
    "    sentence = re.sub('[m]{2,}', 'mm', sentence) # m이 3개 이상이면 2개로 변경. Ex) ummmmmmm yeah -> umm yeah\n",
    "    \n",
    "    # 불용어 제거 (Text)\n",
    "    if remove_stopwords:\n",
    "        tokens = ' '.join(word for word in sentence.split() if not word in stopwords.words('english') if len(word) > 1)\n",
    "    # 불용어 미제거 (Summary)\n",
    "    else:\n",
    "        tokens = ' '.join(word for word in sentence.split() if len(word) > 1)\n",
    "    return tokens\n",
    "print('데이터 전처리, 불용어 제거, 불용어 미제거')"
   ]
  },
  {
   "cell_type": "code",
   "execution_count": 14,
   "id": "14356ade",
   "metadata": {},
   "outputs": [
    {
     "name": "stdout",
     "output_type": "stream",
     "text": [
      "text:  saurav kant alumnus upgrad iiit pg program machine learning artificial intelligence sr systems engineer infosys almost years work experience program upgrad degree career support helped transition data scientist tech mahindra salary hike upgrad online power learning powered lakh careers\n",
      "headlines: delhi techie wins free food from swiggy for one year on cred\n",
      "성공\n"
     ]
    }
   ],
   "source": [
    "temp_text = '''Saurav Kant, an alumnus of upGrad and IIIT-B's PG Program in Machine learning and Artificial Intelligence, was a Sr Systems Engineer at Infosys with almost 5 years of work experience. The program and upGrad's 360-degree career support helped him transition to a Data Scientist at Tech Mahindra with 90% salary hike. upGrad's Online Power Learning has powered 3 lakh+ careers.'''\n",
    "temp_headlines = '''Delhi techie wins free food from Swiggy for one year on CRED'''\n",
    "\n",
    "\n",
    "print(\"text: \", preprocess_sentence(temp_text))\n",
    "print(\"headlines:\", preprocess_sentence(temp_headlines, False))  # 불용어를 제거하지 않습니다.\n",
    "print('성공')"
   ]
  },
  {
   "cell_type": "code",
   "execution_count": 15,
   "id": "fa5addfb",
   "metadata": {},
   "outputs": [
    {
     "name": "stdout",
     "output_type": "stream",
     "text": [
      "Text 전처리 후 결과:  ['saurav kant alumnus upgrad iiit pg program machine learning artificial intelligence sr systems engineer infosys almost years work experience program upgrad degree career support helped transition data scientist tech mahindra salary hike upgrad online power learning powered lakh careers', 'kunal shah credit card bill payment platform cred gave users chance win free food swiggy one year pranav kaushik delhi techie bagged reward spending cred coins users get one cred coin per rupee bill paid used avail rewards brands like ixigo bookmyshow ubereats cult fit', 'new zealand defeated india wickets fourth odi hamilton thursday win first match five match odi series india lost international match rohit sharma captaincy consecutive victories dating back march match witnessed india getting seventh lowest total odi cricket history', 'aegon life iterm insurance plan customers enjoy tax benefits premiums paid save taxes plan provides life cover age years also customers options insure critical illnesses disability accidental death benefit rider life cover age years', 'speaking sexual harassment allegations rajkumar hirani sonam kapoor said known hirani many years true metoo movement get derailed metoo movement always believe woman case need reserve judgment added hirani accused assistant worked sanju']\n",
      "전체 Text 데이터에 대한 전처리\n"
     ]
    }
   ],
   "source": [
    "clean_text = []\n",
    "# 전체 Text 데이터에 대한 전처리 : 10분 이상 시간이 걸릴 수 있습니다. \n",
    "for s in data['text']:\n",
    "    clean_text.append(preprocess_sentence(s))\n",
    "\n",
    "# 전처리 후 출력\n",
    "print(\"Text 전처리 후 결과: \", clean_text[:5])\n",
    "\n",
    "print('전체 Text 데이터에 대한 전처리')"
   ]
  },
  {
   "cell_type": "code",
   "execution_count": 16,
   "id": "db464c8b",
   "metadata": {},
   "outputs": [
    {
     "name": "stdout",
     "output_type": "stream",
     "text": [
      "headlines 전처리 후 결과:  ['upgrad learner switches to career in ml al with salary hike', 'delhi techie wins free food from swiggy for one year on cred', 'new zealand end rohit sharma led india match winning streak', 'aegon life iterm insurance plan helps customers save tax', 'have known hirani for yrs what if metoo claims are not true sonam']\n"
     ]
    }
   ],
   "source": [
    "clean_headlines = []\n",
    "# 전체 headlines 데이터에 대한 전처리 : 5분 이상 시간이 걸릴 수 있습니다. \n",
    "for s in data['headlines']:\n",
    "    clean_headlines.append(preprocess_sentence(s, False))\n",
    "\n",
    "print(\"headlines 전처리 후 결과: \", clean_headlines[:5])"
   ]
  },
  {
   "cell_type": "code",
   "execution_count": 17,
   "id": "b4026dd0",
   "metadata": {},
   "outputs": [
    {
     "name": "stdout",
     "output_type": "stream",
     "text": [
      "성공\n"
     ]
    }
   ],
   "source": [
    "data['text'] = clean_text\n",
    "data['headlines'] = clean_headlines\n",
    "\n",
    "# 빈 값을 Null 값으로 변환\n",
    "data.replace('', np.nan, inplace=True)\n",
    "print('성공')"
   ]
  },
  {
   "cell_type": "code",
   "execution_count": 18,
   "id": "69a7cc70",
   "metadata": {},
   "outputs": [
    {
     "data": {
      "text/plain": [
       "headlines    0\n",
       "text         0\n",
       "dtype: int64"
      ]
     },
     "execution_count": 18,
     "metadata": {},
     "output_type": "execute_result"
    }
   ],
   "source": [
    "data.isnull().sum()"
   ]
  },
  {
   "cell_type": "code",
   "execution_count": 19,
   "id": "0d81dfb3",
   "metadata": {},
   "outputs": [
    {
     "name": "stdout",
     "output_type": "stream",
     "text": [
      "전체 샘플수 : 98360\n"
     ]
    }
   ],
   "source": [
    "data.dropna(axis=0, inplace=True)\n",
    "print('전체 샘플수 :', (len(data)))"
   ]
  },
  {
   "cell_type": "code",
   "execution_count": 20,
   "id": "8eab4df8",
   "metadata": {},
   "outputs": [
    {
     "name": "stdout",
     "output_type": "stream",
     "text": [
      "텍스트의 최소 길이 : 1\n",
      "텍스트의 최대 길이 : 60\n",
      "텍스트의 평균 길이 : 35.09968483123221\n",
      "요약의 최소 길이 : 1\n",
      "요약의 최대 길이 : 16\n",
      "요약의 평균 길이 : 9.299532330215534\n"
     ]
    },
    {
     "data": {
      "image/png": "[encoded data removed]",
      "text/plain": [
       "<Figure size 432x288 with 2 Axes>"
      ]
     },
     "metadata": {
      "needs_background": "light"
     },
     "output_type": "display_data"
    },
    {
     "data": {
      "image/png": "[encoded data removed]",
      "text/plain": [
       "<Figure size 432x288 with 1 Axes>"
      ]
     },
     "metadata": {
      "needs_background": "light"
     },
     "output_type": "display_data"
    },
    {
     "data": {
      "image/png": "[encoded data removed]",
      "text/plain": [
       "<Figure size 432x288 with 1 Axes>"
      ]
     },
     "metadata": {
      "needs_background": "light"
     },
     "output_type": "display_data"
    }
   ],
   "source": [
    "# 길이 분포 출력\n",
    "import matplotlib.pyplot as plt\n",
    "\n",
    "text_len = [len(s.split()) for s in data['text']]\n",
    "headlines_len = [len(s.split()) for s in data['headlines']]\n",
    "\n",
    "print('텍스트의 최소 길이 : {}'.format(np.min(text_len)))\n",
    "print('텍스트의 최대 길이 : {}'.format(np.max(text_len)))\n",
    "print('텍스트의 평균 길이 : {}'.format(np.mean(text_len)))\n",
    "print('요약의 최소 길이 : {}'.format(np.min(headlines_len)))\n",
    "print('요약의 최대 길이 : {}'.format(np.max(headlines_len)))\n",
    "print('요약의 평균 길이 : {}'.format(np.mean(headlines_len)))\n",
    "\n",
    "plt.subplot(1,2,1)\n",
    "plt.boxplot(text_len)\n",
    "plt.title('Text')\n",
    "plt.subplot(1,2,2)\n",
    "plt.boxplot(headlines_len)\n",
    "plt.title('headlines')\n",
    "plt.tight_layout()\n",
    "plt.show()\n",
    "\n",
    "plt.title('Text')\n",
    "plt.hist(text_len, bins = 40)\n",
    "plt.xlabel('length of samples')\n",
    "plt.ylabel('number of samples')\n",
    "plt.show()\n",
    "\n",
    "plt.title('headlines')\n",
    "plt.hist(headlines_len, bins = 40)\n",
    "plt.xlabel('length of samples')\n",
    "plt.ylabel('number of samples')\n",
    "plt.show()"
   ]
  },
  {
   "cell_type": "code",
   "execution_count": 21,
   "id": "67fa7222",
   "metadata": {},
   "outputs": [
    {
     "name": "stdout",
     "output_type": "stream",
     "text": [
      "성공\n"
     ]
    }
   ],
   "source": [
    "text_max_len = 50\n",
    "headlines_max_len = 8\n",
    "print('성공')"
   ]
  },
  {
   "cell_type": "code",
   "execution_count": 22,
   "id": "e72d0072",
   "metadata": {},
   "outputs": [
    {
     "name": "stdout",
     "output_type": "stream",
     "text": [
      "성공\n"
     ]
    }
   ],
   "source": [
    "def below_threshold_len(max_len, nested_list):\n",
    "  cnt = 0\n",
    "  for s in nested_list:\n",
    "    if(len(s.split()) <= max_len):\n",
    "        cnt = cnt + 1\n",
    "  print('전체 샘플 중 길이가 %s 이하인 샘플의 비율: %s'%(max_len, (cnt / len(nested_list))))\n",
    "print('성공')"
   ]
  },
  {
   "cell_type": "code",
   "execution_count": 23,
   "id": "34514433",
   "metadata": {},
   "outputs": [
    {
     "name": "stdout",
     "output_type": "stream",
     "text": [
      "전체 샘플 중 길이가 50 이하인 샘플의 비율: 0.9998576657177715\n",
      "전체 샘플 중 길이가 8 이하인 샘플의 비율: 0.2755693371289142\n"
     ]
    }
   ],
   "source": [
    "below_threshold_len(text_max_len, data['text'])\n",
    "below_threshold_len(headlines_max_len,  data['headlines'])"
   ]
  },
  {
   "cell_type": "code",
   "execution_count": 24,
   "id": "9058a583",
   "metadata": {},
   "outputs": [
    {
     "name": "stdout",
     "output_type": "stream",
     "text": [
      "전체 샘플수 : 27105\n"
     ]
    }
   ],
   "source": [
    "data = data[data['text'].apply(lambda x: len(x.split()) <= text_max_len)]\n",
    "data = data[data['headlines'].apply(lambda x: len(x.split()) <= headlines_max_len)]\n",
    "print('전체 샘플수 :', (len(data)))"
   ]
  },
  {
   "cell_type": "code",
   "execution_count": 25,
   "id": "6a05cc8d",
   "metadata": {},
   "outputs": [
    {
     "data": {
      "text/html": [
       "<div>\n",
       "<style scoped>\n",
       "    .dataframe tbody tr th:only-of-type {\n",
       "        vertical-align: middle;\n",
       "    }\n",
       "\n",
       "    .dataframe tbody tr th {\n",
       "        vertical-align: top;\n",
       "    }\n",
       "\n",
       "    .dataframe thead th {\n",
       "        text-align: right;\n",
       "    }\n",
       "</style>\n",
       "<table border=\"1\" class=\"dataframe\">\n",
       "  <thead>\n",
       "    <tr style=\"text-align: right;\">\n",
       "      <th></th>\n",
       "      <th>headlines</th>\n",
       "      <th>text</th>\n",
       "      <th>decoder_input</th>\n",
       "      <th>decoder_target</th>\n",
       "    </tr>\n",
       "  </thead>\n",
       "  <tbody>\n",
       "    <tr>\n",
       "      <th>19</th>\n",
       "      <td>odisha cm patnaik controls mining mafia union ...</td>\n",
       "      <td>union minister dharmendra pradhan wednesday cl...</td>\n",
       "      <td>sostoken odisha cm patnaik controls mining maf...</td>\n",
       "      <td>odisha cm patnaik controls mining mafia union ...</td>\n",
       "    </tr>\n",
       "    <tr>\n",
       "      <th>21</th>\n",
       "      <td>isro unveils bengaluru centre for manned space...</td>\n",
       "      <td>indian space research organisation wednesday u...</td>\n",
       "      <td>sostoken isro unveils bengaluru centre for man...</td>\n",
       "      <td>isro unveils bengaluru centre for manned space...</td>\n",
       "    </tr>\n",
       "    <tr>\n",
       "      <th>22</th>\n",
       "      <td>killed injured in saudi arabia floods</td>\n",
       "      <td>least people killed others injured saudi arabi...</td>\n",
       "      <td>sostoken killed injured in saudi arabia floods</td>\n",
       "      <td>killed injured in saudi arabia floods eostoken</td>\n",
       "    </tr>\n",
       "    <tr>\n",
       "      <th>29</th>\n",
       "      <td>seat cushions from missing plane carrying foot...</td>\n",
       "      <td>investigators searching lost plane carrying ar...</td>\n",
       "      <td>sostoken seat cushions from missing plane carr...</td>\n",
       "      <td>seat cushions from missing plane carrying foot...</td>\n",
       "    </tr>\n",
       "    <tr>\n",
       "      <th>36</th>\n",
       "      <td>agustawestland scam accused rajiv saxena extra...</td>\n",
       "      <td>agustawestland chopper scam co accused rajiv s...</td>\n",
       "      <td>sostoken agustawestland scam accused rajiv sax...</td>\n",
       "      <td>agustawestland scam accused rajiv saxena extra...</td>\n",
       "    </tr>\n",
       "  </tbody>\n",
       "</table>\n",
       "</div>"
      ],
      "text/plain": [
       "                                            headlines  \\\n",
       "19  odisha cm patnaik controls mining mafia union ...   \n",
       "21  isro unveils bengaluru centre for manned space...   \n",
       "22              killed injured in saudi arabia floods   \n",
       "29  seat cushions from missing plane carrying foot...   \n",
       "36  agustawestland scam accused rajiv saxena extra...   \n",
       "\n",
       "                                                 text  \\\n",
       "19  union minister dharmendra pradhan wednesday cl...   \n",
       "21  indian space research organisation wednesday u...   \n",
       "22  least people killed others injured saudi arabi...   \n",
       "29  investigators searching lost plane carrying ar...   \n",
       "36  agustawestland chopper scam co accused rajiv s...   \n",
       "\n",
       "                                        decoder_input  \\\n",
       "19  sostoken odisha cm patnaik controls mining maf...   \n",
       "21  sostoken isro unveils bengaluru centre for man...   \n",
       "22     sostoken killed injured in saudi arabia floods   \n",
       "29  sostoken seat cushions from missing plane carr...   \n",
       "36  sostoken agustawestland scam accused rajiv sax...   \n",
       "\n",
       "                                       decoder_target  \n",
       "19  odisha cm patnaik controls mining mafia union ...  \n",
       "21  isro unveils bengaluru centre for manned space...  \n",
       "22     killed injured in saudi arabia floods eostoken  \n",
       "29  seat cushions from missing plane carrying foot...  \n",
       "36  agustawestland scam accused rajiv saxena extra...  "
      ]
     },
     "execution_count": 25,
     "metadata": {},
     "output_type": "execute_result"
    }
   ],
   "source": [
    "# 요약 데이터에는 시작 토큰과 종료 토큰을 추가한다.\n",
    "data['decoder_input'] = data['headlines'].apply(lambda x : 'sostoken '+ x)\n",
    "data['decoder_target'] = data['headlines'].apply(lambda x : x + ' eostoken')\n",
    "data.head()"
   ]
  },
  {
   "cell_type": "code",
   "execution_count": 26,
   "id": "66d2f5dd",
   "metadata": {},
   "outputs": [
    {
     "name": "stdout",
     "output_type": "stream",
     "text": [
      "성공\n"
     ]
    }
   ],
   "source": [
    "encoder_input = np.array(data['text']) # 인코더의 입력\n",
    "decoder_input = np.array(data['decoder_input']) # 디코더의 입력\n",
    "decoder_target = np.array(data['decoder_target']) # 디코더의 레이블\n",
    "print('성공')"
   ]
  },
  {
   "cell_type": "code",
   "execution_count": 27,
   "id": "e2fd3b9e",
   "metadata": {},
   "outputs": [
    {
     "name": "stdout",
     "output_type": "stream",
     "text": [
      "[15036  7932  9157 ... 16907  6398 13749]\n"
     ]
    }
   ],
   "source": [
    "indices = np.arange(encoder_input.shape[0])\n",
    "np.random.shuffle(indices)\n",
    "print(indices)"
   ]
  },
  {
   "cell_type": "code",
   "execution_count": 28,
   "id": "31b20c6a",
   "metadata": {},
   "outputs": [
    {
     "name": "stdout",
     "output_type": "stream",
     "text": [
      "성공\n"
     ]
    }
   ],
   "source": [
    "encoder_input = encoder_input[indices]\n",
    "decoder_input = decoder_input[indices]\n",
    "decoder_target = decoder_target[indices]\n",
    "print('성공')"
   ]
  },
  {
   "cell_type": "code",
   "execution_count": 29,
   "id": "7817be91",
   "metadata": {},
   "outputs": [
    {
     "name": "stdout",
     "output_type": "stream",
     "text": [
      "테스트 데이터의 수 : 5421\n"
     ]
    }
   ],
   "source": [
    "n_of_val = int(len(encoder_input)*0.2)\n",
    "print('테스트 데이터의 수 :', n_of_val)"
   ]
  },
  {
   "cell_type": "code",
   "execution_count": 30,
   "id": "b579e157",
   "metadata": {},
   "outputs": [
    {
     "name": "stdout",
     "output_type": "stream",
     "text": [
      "훈련 데이터의 개수 : 21684\n",
      "훈련 레이블의 개수 : 21684\n",
      "테스트 데이터의 개수 : 5421\n",
      "테스트 레이블의 개수 : 5421\n"
     ]
    }
   ],
   "source": [
    "encoder_input_train = encoder_input[:-n_of_val]\n",
    "decoder_input_train = decoder_input[:-n_of_val]\n",
    "decoder_target_train = decoder_target[:-n_of_val]\n",
    "\n",
    "encoder_input_test = encoder_input[-n_of_val:]\n",
    "decoder_input_test = decoder_input[-n_of_val:]\n",
    "decoder_target_test = decoder_target[-n_of_val:]\n",
    "\n",
    "print('훈련 데이터의 개수 :', len(encoder_input_train))\n",
    "print('훈련 레이블의 개수 :', len(decoder_input_train))\n",
    "print('테스트 데이터의 개수 :', len(encoder_input_test))\n",
    "print('테스트 레이블의 개수 :', len(decoder_input_test))"
   ]
  },
  {
   "cell_type": "code",
   "execution_count": 31,
   "id": "db44245b",
   "metadata": {},
   "outputs": [
    {
     "name": "stdout",
     "output_type": "stream",
     "text": [
      "성공\n"
     ]
    }
   ],
   "source": [
    "src_tokenizer = Tokenizer() # 토크나이저 정의\n",
    "src_tokenizer.fit_on_texts(encoder_input_train) # 입력된 데이터로부터 단어 집합 생성\n",
    "print('성공')"
   ]
  },
  {
   "cell_type": "code",
   "execution_count": 32,
   "id": "584d8693",
   "metadata": {},
   "outputs": [
    {
     "name": "stdout",
     "output_type": "stream",
     "text": [
      "단어 집합(vocabulary)의 크기 : 42499\n",
      "등장 빈도가 6번 이하인 희귀 단어의 수: 30740\n",
      "단어 집합에서 희귀 단어를 제외시킬 경우의 단어 집합의 크기 11759\n",
      "단어 집합에서 희귀 단어의 비율: 72.3311136732629\n",
      "전체 등장 빈도에서 희귀 단어 등장 빈도 비율: 8.263353736838162\n"
     ]
    }
   ],
   "source": [
    "threshold = 7\n",
    "total_cnt = len(src_tokenizer.word_index) # 단어의 수\n",
    "rare_cnt = 0 # 등장 빈도수가 threshold보다 작은 단어의 개수를 카운트\n",
    "total_freq = 0 # 훈련 데이터의 전체 단어 빈도수 총 합\n",
    "rare_freq = 0 # 등장 빈도수가 threshold보다 작은 단어의 등장 빈도수의 총 합\n",
    "\n",
    "# 단어와 빈도수의 쌍(pair)을 key와 value로 받는다.\n",
    "for key, value in src_tokenizer.word_counts.items():\n",
    "    total_freq = total_freq + value\n",
    "\n",
    "    # 단어의 등장 빈도수가 threshold보다 작으면\n",
    "    if(value < threshold):\n",
    "        rare_cnt = rare_cnt + 1\n",
    "        rare_freq = rare_freq + value\n",
    "\n",
    "print('단어 집합(vocabulary)의 크기 :', total_cnt)\n",
    "print('등장 빈도가 %s번 이하인 희귀 단어의 수: %s'%(threshold - 1, rare_cnt))\n",
    "print('단어 집합에서 희귀 단어를 제외시킬 경우의 단어 집합의 크기 %s'%(total_cnt - rare_cnt))\n",
    "print(\"단어 집합에서 희귀 단어의 비율:\", (rare_cnt / total_cnt)*100)\n",
    "print(\"전체 등장 빈도에서 희귀 단어 등장 빈도 비율:\", (rare_freq / total_freq)*100)"
   ]
  },
  {
   "cell_type": "code",
   "execution_count": 33,
   "id": "1da4e122",
   "metadata": {},
   "outputs": [
    {
     "name": "stdout",
     "output_type": "stream",
     "text": [
      "성공\n"
     ]
    }
   ],
   "source": [
    "src_vocab = 10000\n",
    "src_tokenizer = Tokenizer(num_words=src_vocab) # 단어 집합의 크기를 10,000으로 제한\n",
    "src_tokenizer.fit_on_texts(encoder_input_train) # 단어 집합 재생성\n",
    "print('성공')"
   ]
  },
  {
   "cell_type": "code",
   "execution_count": 34,
   "id": "58e7b531",
   "metadata": {},
   "outputs": [
    {
     "name": "stdout",
     "output_type": "stream",
     "text": [
      "[[458, 529, 48, 2739, 4185, 2154, 197, 853, 3522, 1660, 1600, 51, 1, 503, 18, 561, 694, 641, 2961, 247, 320, 6465, 152, 102, 64, 3452, 1449, 443, 358, 1601], [193, 79, 57, 131, 600, 4514, 1539, 203, 687, 426, 268, 181, 6466, 175, 648, 550, 3771, 5788, 1, 70, 200, 4514, 5081, 87, 301, 869, 6466, 175, 1882], [4931, 985, 421, 3324, 159, 735, 688, 2464, 7047, 427, 321, 178, 1145, 5082, 274, 3862, 100, 297, 334, 985, 421, 231, 211, 339, 2693, 695]]\n"
     ]
    }
   ],
   "source": [
    "# 텍스트 시퀀스를 정수 시퀀스로 변환\n",
    "encoder_input_train = src_tokenizer.texts_to_sequences(encoder_input_train) \n",
    "encoder_input_test = src_tokenizer.texts_to_sequences(encoder_input_test)\n",
    "\n",
    "# 잘 진행되었는지 샘플 출력\n",
    "print(encoder_input_train[:3])"
   ]
  },
  {
   "cell_type": "code",
   "execution_count": 35,
   "id": "1da0465d",
   "metadata": {},
   "outputs": [
    {
     "name": "stdout",
     "output_type": "stream",
     "text": [
      "성공\n"
     ]
    }
   ],
   "source": [
    "tar_tokenizer = Tokenizer()\n",
    "tar_tokenizer.fit_on_texts(decoder_input_train)\n",
    "print('성공')"
   ]
  },
  {
   "cell_type": "code",
   "execution_count": 36,
   "id": "e3e32a9e",
   "metadata": {},
   "outputs": [
    {
     "name": "stdout",
     "output_type": "stream",
     "text": [
      "단어 집합(vocabulary)의 크기 : 18906\n",
      "등장 빈도가 5번 이하인 희귀 단어의 수: 14287\n",
      "단어 집합에서 희귀 단어를 제외시킬 경우의 단어 집합의 크기 4619\n",
      "단어 집합에서 희귀 단어의 비율: 75.56860256003385\n",
      "전체 등장 빈도에서 희귀 단어 등장 빈도 비율: 14.195732534994393\n"
     ]
    }
   ],
   "source": [
    "threshold = 6\n",
    "total_cnt = len(tar_tokenizer.word_index) # 단어의 수\n",
    "rare_cnt = 0 # 등장 빈도수가 threshold보다 작은 단어의 개수를 카운트\n",
    "total_freq = 0 # 훈련 데이터의 전체 단어 빈도수 총 합\n",
    "rare_freq = 0 # 등장 빈도수가 threshold보다 작은 단어의 등장 빈도수의 총 합\n",
    "\n",
    "# 단어와 빈도수의 쌍(pair)을 key와 value로 받는다.\n",
    "for key, value in tar_tokenizer.word_counts.items():\n",
    "    total_freq = total_freq + value\n",
    "\n",
    "    # 단어의 등장 빈도수가 threshold보다 작으면\n",
    "    if(value < threshold):\n",
    "        rare_cnt = rare_cnt + 1\n",
    "        rare_freq = rare_freq + value\n",
    "\n",
    "print('단어 집합(vocabulary)의 크기 :', total_cnt)\n",
    "print('등장 빈도가 %s번 이하인 희귀 단어의 수: %s'%(threshold - 1, rare_cnt))\n",
    "print('단어 집합에서 희귀 단어를 제외시킬 경우의 단어 집합의 크기 %s'%(total_cnt - rare_cnt))\n",
    "print(\"단어 집합에서 희귀 단어의 비율:\", (rare_cnt / total_cnt)*100)\n",
    "print(\"전체 등장 빈도에서 희귀 단어 등장 빈도 비율:\", (rare_freq / total_freq)*100)"
   ]
  },
  {
   "cell_type": "code",
   "execution_count": 37,
   "id": "6dd18a5e",
   "metadata": {},
   "outputs": [
    {
     "name": "stdout",
     "output_type": "stream",
     "text": [
      "input\n",
      "input  [[1, 188, 592, 63, 6, 286], [1, 109, 1126, 165, 264, 3], [1, 1949, 1127, 533, 10, 306, 419], [1, 1826, 909, 3, 1606, 166, 1382, 112, 65], [1, 4, 1037, 1950, 404, 35]]\n",
      "target\n",
      "decoder  [[188, 592, 63, 6, 286, 2], [109, 1126, 165, 264, 3, 2], [1949, 1127, 533, 10, 306, 419, 2], [1826, 909, 3, 1606, 166, 1382, 112, 65, 2], [4, 1037, 1950, 404, 35, 2]]\n"
     ]
    }
   ],
   "source": [
    "tar_vocab = 2000\n",
    "tar_tokenizer = Tokenizer(num_words=tar_vocab) \n",
    "tar_tokenizer.fit_on_texts(decoder_input_train)\n",
    "tar_tokenizer.fit_on_texts(decoder_target_train)\n",
    "\n",
    "# 텍스트 시퀀스를 정수 시퀀스로 변환\n",
    "decoder_input_train = tar_tokenizer.texts_to_sequences(decoder_input_train) \n",
    "decoder_target_train = tar_tokenizer.texts_to_sequences(decoder_target_train)\n",
    "decoder_input_test = tar_tokenizer.texts_to_sequences(decoder_input_test)\n",
    "decoder_target_test = tar_tokenizer.texts_to_sequences(decoder_target_test)\n",
    "\n",
    "# 잘 변환되었는지 확인\n",
    "print('input')\n",
    "print('input ',decoder_input_train[:5])\n",
    "print('target')\n",
    "print('decoder ',decoder_target_train[:5])"
   ]
  },
  {
   "cell_type": "code",
   "execution_count": 38,
   "id": "e3aeb4ed",
   "metadata": {},
   "outputs": [
    {
     "name": "stdout",
     "output_type": "stream",
     "text": [
      "삭제할 훈련 데이터의 개수 : 8\n",
      "삭제할 테스트 데이터의 개수 : 3\n",
      "훈련 데이터의 개수 : 21676\n",
      "훈련 레이블의 개수 : 21676\n",
      "테스트 데이터의 개수 : 5418\n",
      "테스트 레이블의 개수 : 5418\n"
     ]
    }
   ],
   "source": [
    "drop_train = [index for index, sentence in enumerate(decoder_input_train) if len(sentence) == 1]\n",
    "drop_test = [index for index, sentence in enumerate(decoder_input_test) if len(sentence) == 1]\n",
    "\n",
    "print('삭제할 훈련 데이터의 개수 :', len(drop_train))\n",
    "print('삭제할 테스트 데이터의 개수 :', len(drop_test))\n",
    "\n",
    "encoder_input_train = [sentence for index, sentence in enumerate(encoder_input_train) if index not in drop_train]\n",
    "decoder_input_train = [sentence for index, sentence in enumerate(decoder_input_train) if index not in drop_train]\n",
    "decoder_target_train = [sentence for index, sentence in enumerate(decoder_target_train) if index not in drop_train]\n",
    "\n",
    "encoder_input_test = [sentence for index, sentence in enumerate(encoder_input_test) if index not in drop_test]\n",
    "decoder_input_test = [sentence for index, sentence in enumerate(decoder_input_test) if index not in drop_test]\n",
    "decoder_target_test = [sentence for index, sentence in enumerate(decoder_target_test) if index not in drop_test]\n",
    "\n",
    "print('훈련 데이터의 개수 :', len(encoder_input_train))\n",
    "print('훈련 레이블의 개수 :', len(decoder_input_train))\n",
    "print('테스트 데이터의 개수 :', len(encoder_input_test))\n",
    "print('테스트 레이블의 개수 :', len(decoder_input_test))"
   ]
  },
  {
   "cell_type": "markdown",
   "id": "fa7a0740",
   "metadata": {},
   "source": [
    "# 패딩하기"
   ]
  },
  {
   "cell_type": "code",
   "execution_count": 39,
   "id": "c821c94b",
   "metadata": {},
   "outputs": [
    {
     "name": "stdout",
     "output_type": "stream",
     "text": [
      "성공\n"
     ]
    }
   ],
   "source": [
    "encoder_input_train = pad_sequences(encoder_input_train, maxlen=text_max_len, padding='post')\n",
    "encoder_input_test = pad_sequences(encoder_input_test, maxlen=text_max_len, padding='post')\n",
    "decoder_input_train = pad_sequences(decoder_input_train, maxlen=headlines_max_len, padding='post')\n",
    "decoder_target_train = pad_sequences(decoder_target_train, maxlen=headlines_max_len, padding='post')\n",
    "decoder_input_test = pad_sequences(decoder_input_test, maxlen=headlines_max_len, padding='post')\n",
    "decoder_target_test = pad_sequences(decoder_target_test, maxlen=headlines_max_len, padding='post')\n",
    "print('성공')"
   ]
  },
  {
   "cell_type": "markdown",
   "id": "7470eedc",
   "metadata": {},
   "source": [
    "# 전처리 끝!"
   ]
  },
  {
   "cell_type": "markdown",
   "id": "8523bc32",
   "metadata": {},
   "source": [
    "# 8-8. 모델 설계하기"
   ]
  },
  {
   "cell_type": "code",
   "execution_count": 40,
   "id": "1f90869c",
   "metadata": {},
   "outputs": [
    {
     "name": "stdout",
     "output_type": "stream",
     "text": [
      "WARNING:tensorflow:Layer lstm will not use cuDNN kernels since it doesn't meet the criteria. It will use a generic GPU kernel as fallback when running on GPU.\n",
      "WARNING:tensorflow:Layer lstm_1 will not use cuDNN kernels since it doesn't meet the criteria. It will use a generic GPU kernel as fallback when running on GPU.\n",
      "WARNING:tensorflow:Layer lstm_2 will not use cuDNN kernels since it doesn't meet the criteria. It will use a generic GPU kernel as fallback when running on GPU.\n"
     ]
    }
   ],
   "source": [
    "from tensorflow.keras.layers import Input, LSTM, Embedding, Dense, Concatenate, TimeDistributed\n",
    "from tensorflow.keras.models import Model\n",
    "from tensorflow.keras.callbacks import EarlyStopping, ModelCheckpoint\n",
    "\n",
    "\n",
    "# 인코더 설계 시작\n",
    "embedding_dim = 128\n",
    "hidden_size = 256\n",
    "\n",
    "# 인코더\n",
    "encoder_inputs = Input(shape=(text_max_len,))\n",
    "\n",
    "# 인코더의 임베딩 층\n",
    "enc_emb = Embedding(src_vocab, embedding_dim)(encoder_inputs)\n",
    "\n",
    "# 인코더의 LSTM 1\n",
    "encoder_lstm1 = LSTM(hidden_size, return_sequences=True, return_state=True ,dropout = 0.4, recurrent_dropout = 0.4)\n",
    "encoder_output1, state_h1, state_c1 = encoder_lstm1(enc_emb)\n",
    "\n",
    "# 인코더의 LSTM 2\n",
    "encoder_lstm2 = LSTM(hidden_size, return_sequences=True, return_state=True, dropout=0.4, recurrent_dropout=0.4)\n",
    "encoder_output2, state_h2, state_c2 = encoder_lstm2(encoder_output1)\n",
    "\n",
    "# 인코더의 LSTM 3\n",
    "encoder_lstm3 = LSTM(hidden_size, return_state=True, return_sequences=True, dropout=0.4, recurrent_dropout=0.4)\n",
    "encoder_outputs, state_h, state_c= encoder_lstm3(encoder_output2)"
   ]
  },
  {
   "cell_type": "code",
   "execution_count": 41,
   "id": "ef52c5bf",
   "metadata": {},
   "outputs": [
    {
     "name": "stdout",
     "output_type": "stream",
     "text": [
      "WARNING:tensorflow:Layer lstm_3 will not use cuDNN kernels since it doesn't meet the criteria. It will use a generic GPU kernel as fallback when running on GPU.\n"
     ]
    }
   ],
   "source": [
    "# 디코더 설계\n",
    "decoder_inputs = Input(shape=(None,))\n",
    "\n",
    "# 디코더의 임베딩 층\n",
    "dec_emb_layer = Embedding(tar_vocab, embedding_dim)\n",
    "dec_emb = dec_emb_layer(decoder_inputs)\n",
    "\n",
    "# 디코더의 LSTM\n",
    "decoder_lstm = LSTM(hidden_size, return_sequences=True, return_state=True, dropout=0.4, recurrent_dropout=0.2)\n",
    "decoder_outputs, _, _ = decoder_lstm(dec_emb, initial_state=[state_h, state_c])"
   ]
  },
  {
   "cell_type": "code",
   "execution_count": 42,
   "id": "79135114",
   "metadata": {},
   "outputs": [
    {
     "name": "stdout",
     "output_type": "stream",
     "text": [
      "Model: \"model\"\n",
      "__________________________________________________________________________________________________\n",
      "Layer (type)                    Output Shape         Param #     Connected to                     \n",
      "==================================================================================================\n",
      "input_1 (InputLayer)            [(None, 50)]         0                                            \n",
      "__________________________________________________________________________________________________\n",
      "embedding (Embedding)           (None, 50, 128)      1024000     input_1[0][0]                    \n",
      "__________________________________________________________________________________________________\n",
      "lstm (LSTM)                     [(None, 50, 256), (N 394240      embedding[0][0]                  \n",
      "__________________________________________________________________________________________________\n",
      "input_2 (InputLayer)            [(None, None)]       0                                            \n",
      "__________________________________________________________________________________________________\n",
      "lstm_1 (LSTM)                   [(None, 50, 256), (N 525312      lstm[0][0]                       \n",
      "__________________________________________________________________________________________________\n",
      "embedding_1 (Embedding)         (None, None, 128)    256000      input_2[0][0]                    \n",
      "__________________________________________________________________________________________________\n",
      "lstm_2 (LSTM)                   [(None, 50, 256), (N 525312      lstm_1[0][0]                     \n",
      "__________________________________________________________________________________________________\n",
      "lstm_3 (LSTM)                   [(None, None, 256),  394240      embedding_1[0][0]                \n",
      "                                                                 lstm_2[0][1]                     \n",
      "                                                                 lstm_2[0][2]                     \n",
      "__________________________________________________________________________________________________\n",
      "dense (Dense)                   (None, None, 2000)   514000      lstm_3[0][0]                     \n",
      "==================================================================================================\n",
      "Total params: 3,633,104\n",
      "Trainable params: 3,633,104\n",
      "Non-trainable params: 0\n",
      "__________________________________________________________________________________________________\n"
     ]
    }
   ],
   "source": [
    "# 디코더의 출력층\n",
    "decoder_softmax_layer = Dense(tar_vocab, activation='softmax')\n",
    "decoder_softmax_outputs = decoder_softmax_layer(decoder_outputs) \n",
    "\n",
    "# 모델 정의\n",
    "model = Model([encoder_inputs, decoder_inputs], decoder_softmax_outputs)\n",
    "model.summary()"
   ]
  },
  {
   "cell_type": "markdown",
   "id": "82c57be9",
   "metadata": {},
   "source": [
    "# 모델 훈련 하기"
   ]
  },
  {
   "cell_type": "code",
   "execution_count": 43,
   "id": "117eb4c2",
   "metadata": {
    "scrolled": true
   },
   "outputs": [
    {
     "name": "stdout",
     "output_type": "stream",
     "text": [
      "Model: \"model_1\"\n",
      "__________________________________________________________________________________________________\n",
      "Layer (type)                    Output Shape         Param #     Connected to                     \n",
      "==================================================================================================\n",
      "input_1 (InputLayer)            [(None, 50)]         0                                            \n",
      "__________________________________________________________________________________________________\n",
      "embedding (Embedding)           (None, 50, 128)      1024000     input_1[0][0]                    \n",
      "__________________________________________________________________________________________________\n",
      "lstm (LSTM)                     [(None, 50, 256), (N 394240      embedding[0][0]                  \n",
      "__________________________________________________________________________________________________\n",
      "input_2 (InputLayer)            [(None, None)]       0                                            \n",
      "__________________________________________________________________________________________________\n",
      "lstm_1 (LSTM)                   [(None, 50, 256), (N 525312      lstm[0][0]                       \n",
      "__________________________________________________________________________________________________\n",
      "embedding_1 (Embedding)         (None, None, 128)    256000      input_2[0][0]                    \n",
      "__________________________________________________________________________________________________\n",
      "lstm_2 (LSTM)                   [(None, 50, 256), (N 525312      lstm_1[0][0]                     \n",
      "__________________________________________________________________________________________________\n",
      "lstm_3 (LSTM)                   [(None, None, 256),  394240      embedding_1[0][0]                \n",
      "                                                                 lstm_2[0][1]                     \n",
      "                                                                 lstm_2[0][2]                     \n",
      "__________________________________________________________________________________________________\n",
      "attention_layer (AdditiveAttent (None, None, 256)    256         lstm_3[0][0]                     \n",
      "                                                                 lstm_2[0][0]                     \n",
      "__________________________________________________________________________________________________\n",
      "concat_layer (Concatenate)      (None, None, 512)    0           lstm_3[0][0]                     \n",
      "                                                                 attention_layer[0][0]            \n",
      "__________________________________________________________________________________________________\n",
      "dense_1 (Dense)                 (None, None, 2000)   1026000     concat_layer[0][0]               \n",
      "==================================================================================================\n",
      "Total params: 4,145,360\n",
      "Trainable params: 4,145,360\n",
      "Non-trainable params: 0\n",
      "__________________________________________________________________________________________________\n"
     ]
    }
   ],
   "source": [
    "from tensorflow.keras.layers import AdditiveAttention\n",
    "\n",
    "# 어텐션 층(어텐션 함수)\n",
    "attn_layer = AdditiveAttention(name='attention_layer')\n",
    "\n",
    "# 인코더와 디코더의 모든 time step의 hidden state를 어텐션 층에 전달하고 결과를 리턴\n",
    "attn_out = attn_layer([decoder_outputs, encoder_outputs])\n",
    "\n",
    "\n",
    "# 어텐션의 결과와 디코더의 hidden state들을 연결\n",
    "decoder_concat_input = Concatenate(axis=-1, name='concat_layer')([decoder_outputs, attn_out])\n",
    "\n",
    "# 디코더의 출력층\n",
    "decoder_softmax_layer = Dense(tar_vocab, activation='softmax')\n",
    "decoder_softmax_outputs = decoder_softmax_layer(decoder_concat_input)\n",
    "\n",
    "# 모델 정의\n",
    "model = Model([encoder_inputs, decoder_inputs], decoder_softmax_outputs)\n",
    "model.summary()"
   ]
  },
  {
   "cell_type": "code",
   "execution_count": 44,
   "id": "4784b2ca",
   "metadata": {},
   "outputs": [
    {
     "name": "stdout",
     "output_type": "stream",
     "text": [
      "Epoch 1/50\n",
      "85/85 [==============================] - 65s 664ms/step - loss: 4.9344 - val_loss: 4.5616\n",
      "Epoch 2/50\n",
      "85/85 [==============================] - 56s 655ms/step - loss: 4.5354 - val_loss: 4.3358\n",
      "Epoch 3/50\n",
      "85/85 [==============================] - 56s 655ms/step - loss: 4.3526 - val_loss: 4.2056\n",
      "Epoch 4/50\n",
      "85/85 [==============================] - 56s 660ms/step - loss: 4.1972 - val_loss: 4.0681\n",
      "Epoch 5/50\n",
      "85/85 [==============================] - 58s 680ms/step - loss: 4.0549 - val_loss: 3.9546\n",
      "Epoch 6/50\n",
      "85/85 [==============================] - 56s 664ms/step - loss: 3.9251 - val_loss: 3.8835\n",
      "Epoch 7/50\n",
      "85/85 [==============================] - 56s 654ms/step - loss: 3.8038 - val_loss: 3.7814\n",
      "Epoch 8/50\n",
      "85/85 [==============================] - 56s 656ms/step - loss: 3.6792 - val_loss: 3.6992\n",
      "Epoch 9/50\n",
      "85/85 [==============================] - 55s 645ms/step - loss: 3.5639 - val_loss: 3.6295\n",
      "Epoch 10/50\n",
      "85/85 [==============================] - 55s 649ms/step - loss: 3.4592 - val_loss: 3.5723\n",
      "Epoch 11/50\n",
      "85/85 [==============================] - 55s 649ms/step - loss: 3.3599 - val_loss: 3.5137\n",
      "Epoch 12/50\n",
      "85/85 [==============================] - 55s 647ms/step - loss: 3.2695 - val_loss: 3.4805\n",
      "Epoch 13/50\n",
      "85/85 [==============================] - 56s 653ms/step - loss: 3.1848 - val_loss: 3.4445\n",
      "Epoch 14/50\n",
      "85/85 [==============================] - 55s 645ms/step - loss: 3.1075 - val_loss: 3.4085\n",
      "Epoch 15/50\n",
      "85/85 [==============================] - 55s 648ms/step - loss: 3.0354 - val_loss: 3.3795\n",
      "Epoch 16/50\n",
      "85/85 [==============================] - 56s 657ms/step - loss: 2.9648 - val_loss: 3.3738\n",
      "Epoch 17/50\n",
      "85/85 [==============================] - 55s 653ms/step - loss: 2.9000 - val_loss: 3.3626\n",
      "Epoch 18/50\n",
      "85/85 [==============================] - 55s 649ms/step - loss: 2.8352 - val_loss: 3.3455\n",
      "Epoch 19/50\n",
      "85/85 [==============================] - 55s 644ms/step - loss: 2.7745 - val_loss: 3.3355\n",
      "Epoch 20/50\n",
      "85/85 [==============================] - 54s 640ms/step - loss: 2.7158 - val_loss: 3.3288\n",
      "Epoch 21/50\n",
      "85/85 [==============================] - 55s 646ms/step - loss: 2.6622 - val_loss: 3.3254\n",
      "Epoch 22/50\n",
      "85/85 [==============================] - 55s 649ms/step - loss: 2.6061 - val_loss: 3.3268\n",
      "Epoch 23/50\n",
      "85/85 [==============================] - 55s 643ms/step - loss: 2.5540 - val_loss: 3.3118\n",
      "Epoch 24/50\n",
      "85/85 [==============================] - 54s 637ms/step - loss: 2.5041 - val_loss: 3.3135\n",
      "Epoch 25/50\n",
      "85/85 [==============================] - 55s 648ms/step - loss: 2.4520 - val_loss: 3.3194\n",
      "Epoch 00025: early stopping\n"
     ]
    }
   ],
   "source": [
    "model.compile(optimizer='rmsprop', loss='sparse_categorical_crossentropy')\n",
    "es = EarlyStopping(monitor='val_loss', patience=2, verbose=1)\n",
    "history = model.fit(x=[encoder_input_train, decoder_input_train], y=decoder_target_train, \\\n",
    "          validation_data=([encoder_input_test, decoder_input_test], decoder_target_test), \\\n",
    "          batch_size=256, callbacks=[es], epochs=50)"
   ]
  },
  {
   "cell_type": "markdown",
   "id": "155d55d4",
   "metadata": {},
   "source": [
    "# 시각화"
   ]
  },
  {
   "cell_type": "code",
   "execution_count": 45,
   "id": "12abad6d",
   "metadata": {},
   "outputs": [
    {
     "data": {
      "image/png": "[encoded data removed]",
      "text/plain": [
       "<Figure size 432x288 with 1 Axes>"
      ]
     },
     "metadata": {
      "needs_background": "light"
     },
     "output_type": "display_data"
    }
   ],
   "source": [
    "plt.plot(history.history['loss'], label='train')\n",
    "plt.plot(history.history['val_loss'], label='test')\n",
    "plt.legend()\n",
    "plt.show()"
   ]
  },
  {
   "cell_type": "markdown",
   "id": "3fa29559",
   "metadata": {},
   "source": [
    "# 모델 테스트하기"
   ]
  },
  {
   "cell_type": "code",
   "execution_count": 46,
   "id": "db5440a9",
   "metadata": {},
   "outputs": [
    {
     "name": "stdout",
     "output_type": "stream",
     "text": [
      "성공\n"
     ]
    }
   ],
   "source": [
    "src_index_to_word = src_tokenizer.index_word # 원문 단어 집합에서 정수 -> 단어를 얻음\n",
    "tar_word_to_index = tar_tokenizer.word_index # 요약 단어 집합에서 단어 -> 정수를 얻음\n",
    "tar_index_to_word = tar_tokenizer.index_word # 요약 단어 집합에서 정수 -> 단어를 얻음\n",
    "\n",
    "print('성공')"
   ]
  },
  {
   "cell_type": "code",
   "execution_count": 47,
   "id": "89fe0c6a",
   "metadata": {},
   "outputs": [
    {
     "name": "stdout",
     "output_type": "stream",
     "text": [
      "성공\n"
     ]
    }
   ],
   "source": [
    "# 인코더 설계\n",
    "encoder_model = Model(inputs=encoder_inputs, outputs=[encoder_outputs, state_h, state_c])\n",
    "\n",
    "# 이전 시점의 상태들을 저장하는 텐서\n",
    "decoder_state_input_h = Input(shape=(hidden_size,))\n",
    "decoder_state_input_c = Input(shape=(hidden_size,))\n",
    "\n",
    "dec_emb2 = dec_emb_layer(decoder_inputs)\n",
    "\n",
    "# 문장의 다음 단어를 예측하기 위해서 초기 상태(initial_state)를 이전 시점의 상태로 사용. 이는 뒤의 함수 decode_sequence()에 구현\n",
    "# 훈련 과정에서와 달리 LSTM의 리턴하는 은닉 상태와 셀 상태인 state_h와 state_c를 버리지 않음.\n",
    "decoder_outputs2, state_h2, state_c2 = decoder_lstm(dec_emb2, initial_state=[decoder_state_input_h, decoder_state_input_c])\n",
    "\n",
    "print('성공')"
   ]
  },
  {
   "cell_type": "code",
   "execution_count": 48,
   "id": "ef73e740",
   "metadata": {},
   "outputs": [
    {
     "name": "stdout",
     "output_type": "stream",
     "text": [
      "성공\n"
     ]
    }
   ],
   "source": [
    "# 어텐션 함수\n",
    "decoder_hidden_state_input = Input(shape=(text_max_len, hidden_size))\n",
    "attn_out_inf = attn_layer([decoder_outputs2, decoder_hidden_state_input])\n",
    "decoder_inf_concat = Concatenate(axis=-1, name='concat')([decoder_outputs2, attn_out_inf])\n",
    "\n",
    "# 디코더의 출력층\n",
    "decoder_outputs2 = decoder_softmax_layer(decoder_inf_concat) \n",
    "\n",
    "# 최종 디코더 모델\n",
    "decoder_model = Model(\n",
    "    [decoder_inputs] + [decoder_hidden_state_input,decoder_state_input_h, decoder_state_input_c],\n",
    "    [decoder_outputs2] + [state_h2, state_c2])\n",
    "\n",
    "print('성공')"
   ]
  },
  {
   "cell_type": "code",
   "execution_count": 49,
   "id": "e880e8f8",
   "metadata": {},
   "outputs": [
    {
     "name": "stdout",
     "output_type": "stream",
     "text": [
      "성공\n"
     ]
    }
   ],
   "source": [
    "def decode_sequence(input_seq):\n",
    "    # 입력으로부터 인코더의 상태를 얻음\n",
    "    e_out, e_h, e_c = encoder_model.predict(input_seq)\n",
    "\n",
    "     # <SOS>에 해당하는 토큰 생성\n",
    "    target_seq = np.zeros((1,1))\n",
    "    target_seq[0, 0] = tar_word_to_index['sostoken']\n",
    "\n",
    "    stop_condition = False\n",
    "    decoded_sentence = ''\n",
    "    while not stop_condition: # stop_condition이 True가 될 때까지 루프 반복\n",
    "\n",
    "        output_tokens, h, c = decoder_model.predict([target_seq] + [e_out, e_h, e_c])\n",
    "        sampled_token_index = np.argmax(output_tokens[0, -1, :])\n",
    "        sampled_token = tar_index_to_word[sampled_token_index]\n",
    "\n",
    "        if (sampled_token!='eostoken'):\n",
    "            decoded_sentence += ' '+sampled_token\n",
    "\n",
    "        #  <eos>에 도달하거나 최대 길이를 넘으면 중단.\n",
    "        if (sampled_token == 'eostoken'  or len(decoded_sentence.split()) >= (headlines_max_len-1)):\n",
    "            stop_condition = True\n",
    "\n",
    "        # 길이가 1인 타겟 시퀀스를 업데이트\n",
    "        target_seq = np.zeros((1,1))\n",
    "        target_seq[0, 0] = sampled_token_index\n",
    "\n",
    "        # 상태를 업데이트 합니다.\n",
    "        e_h, e_c = h, c\n",
    "\n",
    "    return decoded_sentence\n",
    "print('성공')"
   ]
  },
  {
   "cell_type": "markdown",
   "id": "f14e89e1",
   "metadata": {},
   "source": [
    "# 추상적 요약"
   ]
  },
  {
   "cell_type": "code",
   "execution_count": 50,
   "id": "d300c527",
   "metadata": {},
   "outputs": [
    {
     "name": "stdout",
     "output_type": "stream",
     "text": [
      "성공\n"
     ]
    }
   ],
   "source": [
    "# 원문의 정수 시퀀스를 텍스트 시퀀스로 변환\n",
    "def seq2text(input_seq):\n",
    "    temp=''\n",
    "    for i in input_seq:\n",
    "        if (i!=0):\n",
    "            temp = temp + src_index_to_word[i]+' '\n",
    "    return temp\n",
    "\n",
    "# 요약문의 정수 시퀀스를 텍스트 시퀀스로 변환\n",
    "def seq2summary(input_seq):\n",
    "    temp=''\n",
    "    for i in input_seq:\n",
    "        if ((i!=0 and i!=tar_word_to_index['sostoken']) and i!=tar_word_to_index['eostoken']):\n",
    "            temp = temp + tar_index_to_word[i] + ' '\n",
    "    return temp\n",
    "\n",
    "print('성공')"
   ]
  },
  {
   "cell_type": "code",
   "execution_count": 51,
   "id": "cac42d41",
   "metadata": {},
   "outputs": [
    {
     "name": "stdout",
     "output_type": "stream",
     "text": [
      "원문 : woman sued airbnb negligence allowing rent los angeles room host previously accused domestic violence alleged carlos listed positive reviews sexually assaulted airbnb said conducted background check allowed host convicted \n",
      "실제 요약 : woman sexually by sues \n",
      "예측 요약 :  woman woman denied denied\n",
      "\n",
      "\n",
      "원문 : founder amit bhardwaj allegedly people crore arrested bangkok brought back pune allegedly scheme bhardwaj monthly returns bhardwaj previously worked infosys started cryptocurrency mining company gb also launched token \n",
      "실제 요약 : cr bitcoin amit arrested in \n",
      "예측 요약 :  crore in bitcoin\n",
      "\n",
      "\n",
      "원문 : minister state finance shiv pratap shukla said proposal government consideration ban notes introduced demonetisation november shukla said notes circulated adequate numbers wake currency crunch various states past months \n",
      "실제 요약 : no plans to finance \n",
      "예측 요약 :  gst of demonetisation chidambaram\n",
      "\n",
      "\n",
      "원문 : delhi government tuesday announced merit means scholarship students low middle income groups studying state universities scheme three categories based students family income provide fee waivers however students need minimum class passed qualify scheme \n",
      "실제 요약 : delhi govt launches scheme \n",
      "예측 요약 :  delhi schools to be\n",
      "\n",
      "\n",
      "원문 : britain serious fraud office discovered present residence vijay mallya london lady walk bought using indian taxpayers money companies located uk mallya paid crore kingfisher airline account london british company house nearly crore also transferred kingfisher axis bank account london accounts \n",
      "실제 요약 : mallya london home using indian money \n",
      "예측 요약 :  former infosys files insolvency against bankruptcy\n",
      "\n",
      "\n",
      "원문 : kerala high court thursday turned bail plea man arrested last month saying protests entry women sabarimala temple unacceptable bail application considered send wrong signals incidents hc said protesters last month prevented around women entering temple \n",
      "실제 요약 : protests in sabarimala not kerala high court \n",
      "예측 요약 :  kerala court arrested for violence\n",
      "\n",
      "\n",
      "원문 : apparent reference dmk chief karunanidhi daughter bjp leader raja asked journalists would question leader made child mp like questioned tamil nadu governor tweet comes condemned female journalist claiming violated personal space \n",
      "실제 요약 : bjp leader calls chief daughter child \n",
      "예측 요약 :  hardik patel to contest party\n",
      "\n",
      "\n",
      "원문 : union minister abbas naqvi saturday criticised farooq abdullah remark claimed kupwara attack highlighted spread hatred muslims hearing irresponsible statement politically person like abdullah naqvi said naqvi added abdullah remark national security issue raised political thinking \n",
      "실제 요약 : centre slams for his remark \n",
      "예측 요약 :  attack in kashmir\n",
      "\n",
      "\n",
      "원문 : liquor firm united posted year year increase profit crore june quarter even revenue fell crore sales popular segment includes brands like fell decision take route segment states \n",
      "실제 요약 : united profit rises despite in revenue \n",
      "예측 요약 :  profit rises to crore in june quarter\n",
      "\n",
      "\n",
      "원문 : indian cricket team royal challengers bangalore captain virat kohli posted selfie alongside harbhajan singh daughter instagram kohli post read baby looking something beard surprised someone beautiful harbhajan god \n",
      "실제 요약 : kohli shares selfie with harbhajan singh daughter \n",
      "예측 요약 :  kohli calls kohli for\n",
      "\n",
      "\n",
      "원문 : niti aayog vice chairman rajiv kumar monday blamed former rbi governor rajan policies economic growth rate last three years growth rising non performing assets banking sector added comes days gdp growth rate first quarter highest two years \n",
      "실제 요약 : behind economy \n",
      "예측 요약 :  india growth to economic jaitley\n",
      "\n",
      "\n",
      "원문 : bengaluru police informed delhi court identified properties liquor baron vijay mallya police added unable properties already attached enforcement directorate remaining assets part proceedings police also sought time identify properties mallya \n",
      "실제 요약 : mallya assets could not police \n",
      "예측 요약 :  delhi police staff arrested for corruption\n",
      "\n",
      "\n",
      "원문 : tim wilson australian proposed gay partner floor parliament debate sex marriage lower house australian parliament began bill monday days passed upper house majority australians voted support sex marriage two month long government survey \n",
      "실제 요약 : australian mp proposes to gay partner in parliament \n",
      "예측 요약 :  appointed new female chief\n",
      "\n",
      "\n",
      "원문 : carat yellow diamond worth crore found mine africa mining company area owns discovered government declared independence uk owns rest may recovered carat yellow diamond area \n",
      "실제 요약 : diamond worth crore in africa \n",
      "예측 요약 :  diamond worth crore in\n",
      "\n",
      "\n",
      "원문 : actor anupam kher called actress priyanka chopra best adding fellow indian proud achievements said sharing pictures new york actress shooting third season american tv series \n",
      "실제 요약 : indian actor our ambassador on priyanka \n",
      "예측 요약 :  priyanka chopra is\n",
      "\n",
      "\n",
      "원문 : delhi police monday arrested thieves found belonging one large extended family based village near agra family worked group used steal mobile phones metro passengers day police said accused reportedly targeted passengers every taking advantage rush metro trains \n",
      "실제 요약 : delhi police arrest to single family \n",
      "예측 요약 :  delhi police train traffic\n",
      "\n",
      "\n",
      "원문 : ranbir kapoor said unfortunate pakistani actor khan bear due political climate india release hai last year attack maharashtra sena called ban pakistani india threatening beat leave \n",
      "실제 요약 : of political climate ranbir \n",
      "예측 요약 :  akshay kumar is in\n",
      "\n",
      "\n",
      "원문 : security forces put alert thursday two suspicious black bags found near area police recovered mobile tower batteries bags wednesday search operation launched track three suspicious men broke police barrier went missing \n",
      "실제 요약 : found near military \n",
      "예측 요약 :  dead as truck in mumbai\n",
      "\n",
      "\n",
      "원문 : haryana police saturday arrested three people identified connection attack two kashmiri students state district promising proper investigation police said medical help also provided victims students allegedly attacked people returning mosque \n",
      "실제 요약 : held for assaulting kashmiri students in haryana \n",
      "예측 요약 :  arrested for violence in haryana\n",
      "\n",
      "\n",
      "원문 : minute long video shows moment officers raided carried controlled explosion property occupied manchester attack suspect salman raid carried hours blast killed people injured others blast marked deadliest terror attack british soil since london bombings \n",
      "실제 요약 : video terrorist on manchester house \n",
      "예측 요약 :  killed injured in car bomb explosion\n",
      "\n",
      "\n",
      "원문 : das assumed charge th governor rbi effective december assumed charge governor reserve bank india thank good wishes tweeted das served economic affairs secretary demonetisation announced dr patel resigned monday citing personal reasons \n",
      "실제 요약 : takes charge as th rbi governor \n",
      "예측 요약 :  gst of gst chidambaram\n",
      "\n",
      "\n",
      "원문 : india would witness full moon today pm named across northern build winter time year population north america decreased significantly years people medicine \n",
      "실제 요약 : india to moon \n",
      "예측 요약 :  earth earth on india\n",
      "\n",
      "\n",
      "원문 : india captain virat kohli featured highest paid forbes india celebrity list crore earnings kohli retained third position overall youngest among top celebrities feature list indian shuttler pv sindhu placed th highest paid list crore earnings \n",
      "실제 요약 : kohli india top of at crore \n",
      "예측 요약 :  virat kohli named highest paid of\n",
      "\n",
      "\n",
      "원문 : former bangladeshi left arm spinner family suffered injuries following road accident district family returning dhaka celebrating eid ul met accident played odis bangladesh first bangladeshi bowler claim wickets one day \n",
      "실제 요약 : former desh cricketer suffers in road accident \n",
      "예측 요약 :  kolkata dies after accident\n",
      "\n",
      "\n",
      "원문 : google app billion words day ceo sundar revealed company recent earnings call know language google help right information right time added google parent company alphabet also revealed increase year year quarterly revenue billion \n",
      "실제 요약 : google billion day ceo \n",
      "예측 요약 :  facebook ceo becomes billion in\n",
      "\n",
      "\n",
      "원문 : referring prime minister narendra modi united states president donald trump meeting monday congress leader manish tuesday said absolutely nothing come visit called joint statement adding mention visas even regard terror \n",
      "실제 요약 : modi and trump meeting nothing congress \n",
      "예측 요약 :  pm modi receives to\n",
      "\n",
      "\n",
      "원문 : india hockey team current asian champions trophy defending champions began title defense edition thrashing hosts opening round match thursday eight indian players scored goal singh scored hat trick india face pakistan next match asian champions trophy \n",
      "실제 요약 : india in asian \n",
      "예측 요약 :  india beat india world cup\n",
      "\n",
      "\n",
      "원문 : monthly grant scored runs school match temporarily year mumbai cricket association announced monthly scholarship five years received amount year review performance year continuing grant \n",
      "실제 요약 : run stopped by \n",
      "예측 요약 :  scores in minutes after surgery\n",
      "\n",
      "\n",
      "원문 : bharat group adopted delhi red fort reported amount crore years becoming first ever corporate adopt government adopt heritage project firm responsible maintaining beat indigo group win contract \n",
      "실제 요약 : red by group for crore \n",
      "예측 요약 :  crore in years\n",
      "\n",
      "\n",
      "원문 : china issued new advisory citizens travelling india directing visit restricted areas like islands take photos military advisory posted chinese embassy website first advisory issued china two month long doklam standoff two nations \n",
      "실제 요약 : china issues for citizens to india \n",
      "예측 요약 :  china to launch chinese media\n",
      "\n",
      "\n",
      "원문 : dump garbage roadside claim access community north delhi according report shocking discovery report nearly wrongly believe metal glass meanwhile sell waste per report \n",
      "실제 요약 : on road report \n",
      "예측 요약 :  indian airways jet airways\n",
      "\n",
      "\n",
      "원문 : shankar director starring rajinikanth akshay kumar apologised two photo journalists alleged abused beaten film crew members visiting press council office chennai shankar said shall ensure incidents like happened without knowledge journalists reportedly withdrawn police complaint \n",
      "실제 요약 : director apologises over attack on by crew \n",
      "예측 요약 :  akshay haasan launches padmavati on padmavati\n",
      "\n",
      "\n",
      "원문 : militant group lashkar taiba claimed responsibility separate attacks army camp karan nagar jammu kashmir many five soldiers martyred saturday army camp attack one civilian killed one crpf jawan killed monday karan nagar attack army foiled \n",
      "실제 요약 : let claims responsibility for army attack \n",
      "예측 요약 :  let army attack killed in\n",
      "\n",
      "\n",
      "원문 : late actress sridevi among mentioned section oscars tribute personalities film industry passed away shashi kapoor passed away december featured tribute late actor roger known role james bond filmmakers george also mentioned \n",
      "실제 요약 : paid to late actress sridevi at oscars \n",
      "예측 요약 :  sridevi in sridevi\n",
      "\n",
      "\n",
      "원문 : winning six challenge live tuesday indo canadian wrestler mahal emerged new wwe championship title match year old face title branded event backlash may wins house match april \n",
      "실제 요약 : named no for championship \n",
      "예측 요약 :  wins world title\n",
      "\n",
      "\n",
      "원문 : former lieutenant governor delhi government proposed premium bus scheme last year government monday announced plans app based bus service project least buses run private operators service aims reduce use private vehicles state transport minister kailash said \n",
      "실제 요약 : delhi government plans app based bus service \n",
      "예측 요약 :  delhi government to build electric vehicles\n",
      "\n",
      "\n",
      "원문 : former president robert mugabe called ouster office coup must year old forced resign post last year army took party launched impeachment proceedings mugabe one world longest serving leaders led zimbabwe years \n",
      "실제 요약 : former zimbabwe president terms his \n",
      "예측 요약 :  prez kovind naidu resigns from president\n",
      "\n",
      "\n",
      "원문 : constitutional court indonesia rejected plea make sex outside marriage illegal world biggest muslim majority country decision hailed rights activists believed petition would affected gay people cannot marry indonesia current indonesian laws sex illegal involves minor nn \n",
      "실제 요약 : indonesia court rejects plea to sex \n",
      "예측 요약 :  court bans marriage\n",
      "\n",
      "\n",
      "원문 : prime minister narendra modi hosted outgoing president pranab mukherjee hyderabad house saturday modi presented mukherjee keeping tradition president pranab mukherjee signed visitors book building mukherjee office monday given mps parliament sunday \n",
      "실제 요약 : pm modi for president mukherjee \n",
      "예측 요약 :  pm modi visits president of\n",
      "\n",
      "\n",
      "원문 : minister state home hansraj ahir tuesday said representation women police personnel india level january state governments requested create additional posts women constables sub vacant posts men constables posts women constables added \n",
      "실제 요약 : women about of police forces \n",
      "예측 요약 :  delhi to get international\n",
      "\n",
      "\n",
      "원문 : hollywood director james denying allegations sexual harassment said anyone accused behaviour either lying anyone says want face added said find offensive insulting \n",
      "실제 요약 : director to sexual harassment allegations \n",
      "예측 요약 :  sexual harassment allegations against\n",
      "\n",
      "\n",
      "원문 : pune based fintech startup raised crore debt financing non banking finance corporation capital may raised crore equity funding series funding round saw participation ventures india founded akshay ashish goyal provides salary advances operations eight cities including mumbai \n",
      "실제 요약 : startup raises cr from capital \n",
      "예측 요약 :  raises crore from softbank\n",
      "\n",
      "\n",
      "원문 : moon jae south korea presidential election ending nearly decade conservative rule country moon secured votes early election triggered ex president park impeachment vowed achieve peace north korea country current policy moon parents north korean refugees fled korean war \n",
      "실제 요약 : moon in wins south korea presidential election \n",
      "예측 요약 :  trump to be trump\n",
      "\n",
      "\n",
      "원문 : chelsea spanish midfielder set career second guinness world record becoming player reach english premier league reached landmark figure rd match also jointly holds record number passes seconds pair \n",
      "실제 요약 : chelsea spanish sets nd world record \n",
      "예측 요약 :  world oldest expensive to record\n",
      "\n",
      "\n",
      "원문 : leading india win tri series final ball dinesh karthik said practising shots strong base hitting really happy come performance played really well tournament win final would unfortunate karthik added \n",
      "실제 요약 : have been on his \n",
      "예측 요약 :  players in\n",
      "\n",
      "\n",
      "원문 : virat kohli become fastest cricketer score runs captain odis reaching milestone england th innings skipper tuesday year old overtook ex south african captain ab de villiers taken innings kohli also fastest reach odi runs captain \n",
      "실제 요약 : virat kohli fastest to odi runs as captain \n",
      "예측 요약 :  virat kohli becomes fastest to score runs\n",
      "\n",
      "\n",
      "원문 : least civilians killed sunday roadside bomb exploded afghanistan province officials said explosion took place bomb struck civilian vehicle officials added comes day gunmen attacked intercontinental hotel capital city kabul took several guests \n",
      "실제 요약 : killed as bomb explodes in afghanistan \n",
      "예측 요약 :  killed in suicide bombing in afghanistan\n",
      "\n",
      "\n",
      "원문 : tv association expelled actor nath accused harassing several actors raping director producer decision taken body called meeting nath latter attend landmark unprecedented step said \n",
      "실제 요약 : expels following rape allegations \n",
      "예측 요약 :  tanushree should tanushree\n",
      "\n",
      "\n",
      "원문 : online local business search engine chief financial officer announced resignation firm joined leading finance legal functions departure comes months departure chief technology officer raman stepped october \n",
      "실제 요약 : just announces resignation \n",
      "예측 요약 :  head quits\n",
      "\n",
      "\n",
      "원문 : aam aadmi party released song mark completion three years governance delhi wednesday song composed singer vishal written aap leader dilip pandey achievements arvind kejriwal led government different sectors occasion aap leaders questions people social media event \n",
      "실제 요약 : aap government releases song on its rd anniversary \n",
      "예측 요약 :  actor has become party\n",
      "\n",
      "\n"
     ]
    }
   ],
   "source": [
    "for i in range(50, 100):\n",
    "    print(\"원문 :\", seq2text(encoder_input_test[i]))\n",
    "    print(\"실제 요약 :\", seq2summary(decoder_input_test[i]))\n",
    "    print(\"예측 요약 :\", decode_sequence(encoder_input_test[i].reshape(1, text_max_len)))\n",
    "    print(\"\\n\")"
   ]
  },
  {
   "cell_type": "markdown",
   "id": "48721668",
   "metadata": {},
   "source": [
    "# 8-12. 추출적 요약 해보기"
   ]
  },
  {
   "cell_type": "markdown",
   "id": "1eb738c2",
   "metadata": {},
   "source": [
    "# summarize 사용하기"
   ]
  },
  {
   "cell_type": "markdown",
   "id": "5bd916f2",
   "metadata": {},
   "source": [
    "Summa의 summarize()의 인자로 사용되는 값들에 대해서 알아볼게요.\n",
    ">text (str) : 요약할 테스트.\n",
    ">\n",
    ">ratio (float, optional) – 요약문에서 원본에서 선택되는 문장 비율. 0~1 사이값\n",
    ">\n",
    ">words (int or None, optional) – 출력에 포함할 단어 수.\n",
    ">\n",
    ">만약, ratio와 함께 두 파라미터가 모두 제공되는 경우 ratio는 무시한다.\n",
    ">\n",
    ">split (bool, optional) – True면 문장 list / False는 조인(join)된 문자열을 반환"
   ]
  },
  {
   "cell_type": "code",
   "execution_count": 9,
   "id": "08d89c8d",
   "metadata": {},
   "outputs": [],
   "source": [
    "import requests\n",
    "from summa.summarizer import summarize"
   ]
  },
  {
   "cell_type": "code",
   "execution_count": 10,
   "id": "957c56e6",
   "metadata": {},
   "outputs": [],
   "source": [
    "import urllib.request\n",
    "urllib.request.urlretrieve(\"https://raw.githubusercontent.com/sunnysai12345/News_Summary/master/news_summary_more.csv\", filename=\"news_summary_more.csv\")\n",
    "data = pd.read_csv('news_summary_more.csv', encoding='iso-8859-1')"
   ]
  },
  {
   "cell_type": "code",
   "execution_count": 11,
   "id": "c5fc9f5b",
   "metadata": {},
   "outputs": [],
   "source": [
    "text = data"
   ]
  },
  {
   "cell_type": "code",
   "execution_count": 12,
   "id": "818b8810",
   "metadata": {
    "scrolled": true
   },
   "outputs": [
    {
     "name": "stdout",
     "output_type": "stream",
     "text": [
      "                                              headlines  \\\n",
      "0     upGrad learner switches to career in ML & Al w...   \n",
      "1     Delhi techie wins free food from Swiggy for on...   \n",
      "2     New Zealand end Rohit Sharma-led India's 12-ma...   \n",
      "3     Aegon life iTerm insurance plan helps customer...   \n",
      "4     Have known Hirani for yrs, what if MeToo claim...   \n",
      "...                                                 ...   \n",
      "1495  Have seen Sachin Tendulkar get angry but not M...   \n",
      "1496  Player ensures wife stays dry in rain during A...   \n",
      "1497  Federer denied entry into locker room by secur...   \n",
      "1498  42/42 seats in West Bengal: CM Mamata's cutout...   \n",
      "1499  Court refuses chargesheet by Delhi Police agai...   \n",
      "\n",
      "                                                   text  \n",
      "0     Saurav Kant, an alumnus of upGrad and IIIT-B's...  \n",
      "1     Kunal Shah's credit card bill payment platform...  \n",
      "2     New Zealand defeated India by 8 wickets in the...  \n",
      "3     With Aegon Life iTerm Insurance plan, customer...  \n",
      "4     Speaking about the sexual harassment allegatio...  \n",
      "...                                                 ...  \n",
      "1495  India head coach Ravi Shastri has said that he...  \n",
      "1496  Italian tennis player Andreas Seppi ensured hi...  \n",
      "1497  World number three Roger Federer was stopped b...  \n",
      "1498  A cutout of TMC chief and West Bengal CM Mamat...  \n",
      "1499  A Delhi court on Saturday pulled up Delhi Poli...  \n",
      "\n",
      "[1500 rows x 2 columns]\n"
     ]
    }
   ],
   "source": [
    "print(text[:1500])"
   ]
  },
  {
   "cell_type": "code",
   "execution_count": 19,
   "id": "f510990d",
   "metadata": {},
   "outputs": [
    {
     "name": "stdout",
     "output_type": "stream",
     "text": [
      "원문 : Saurav Kant, an alumnus of upGrad and IIIT-B's PG Program in Machine learning and Artificial Intelligence, was a Sr Systems Engineer at Infosys with almost 5 years of work experience. The program and upGrad's 360-degree career support helped him transition to a Data Scientist at Tech Mahindra with 90% salary hike. upGrad's Online Power Learning has powered 3 lakh+ careers.\n",
      "실제 요약 : upGrad learner switches to career in ML & Al with 90% salary hike\n",
      "추출 요약 : upGrad's Online Power Learning has powered 3 lakh+ careers.\n",
      "\n",
      "\n",
      "원문 : Kunal Shah's credit card bill payment platform, CRED, gave users a chance to win free food from Swiggy for one year. Pranav Kaushik, a Delhi techie, bagged this reward after spending 2000 CRED coins. Users get one CRED coin per rupee of bill paid, which can be used to avail rewards from brands like Ixigo, BookMyShow, UberEats, Cult.Fit and more.\n",
      "실제 요약 : Delhi techie wins free food from Swiggy for one year on CRED\n",
      "추출 요약 : Users get one CRED coin per rupee of bill paid, which can be used to avail rewards from brands like Ixigo, BookMyShow, UberEats, Cult.Fit and more.\n",
      "\n",
      "\n",
      "원문 : New Zealand defeated India by 8 wickets in the fourth ODI at Hamilton on Thursday to win their first match of the five-match ODI series. India lost an international match under Rohit Sharma's captaincy after 12 consecutive victories dating back to March 2018. The match witnessed India getting all out for 92, their seventh lowest total in ODI cricket history.\n",
      "실제 요약 : New Zealand end Rohit Sharma-led India's 12-match winning streak\n",
      "추출 요약 : The match witnessed India getting all out for 92, their seventh lowest total in ODI cricket history.\n",
      "\n",
      "\n",
      "원문 : With Aegon Life iTerm Insurance plan, customers can enjoy tax benefits on your premiums paid and save up to Ã¢ÂÂ¹46,800^ on taxes. The plan provides life cover up to the age of 100 years. Also, customers have options to insure against Critical Illnesses, Disability and Accidental Death Benefit Rider with a life cover up to the age of 80 years.\n",
      "실제 요약 : Aegon life iTerm insurance plan helps customers save tax\n",
      "추출 요약 : Also, customers have options to insure against Critical Illnesses, Disability and Accidental Death Benefit Rider with a life cover up to the age of 80 years.\n",
      "\n",
      "\n",
      "원문 : Speaking about the sexual harassment allegations against Rajkumar Hirani, Sonam Kapoor said, \"I've known Hirani for many years...What if it's not true, the [#MeToo] movement will get derailed.\" \"In the #MeToo movement, I always believe a woman. But in this case, we need to reserve our judgment,\" she added. Hirani has been accused by an assistant who worked in 'Sanju'.\n",
      "실제 요약 : Have known Hirani for yrs, what if MeToo claims are not true: Sonam\n",
      "추출 요약 : Speaking about the sexual harassment allegations against Rajkumar Hirani, Sonam Kapoor said, \"I've known Hirani for many years...What if it's not true, the [#MeToo] movement will get derailed.\" \"In the #MeToo movement, I always believe a woman.\n",
      "\n",
      "\n",
      "원문 : Pakistani singer Rahat Fateh Ali Khan has denied receiving any notice from the Enforcement Directorate over allegedly smuggling foreign currency out of India. \"It would have been better if the authorities would have served the notice first if any and then publicised this,\" reads a press release issued on behalf of Rahat. The statement further called the allegation \"bizarre\".\n",
      "실제 요약 : Rahat Fateh Ali Khan denies getting notice for smuggling currency\n",
      "추출 요약 : Pakistani singer Rahat Fateh Ali Khan has denied receiving any notice from the Enforcement Directorate over allegedly smuggling foreign currency out of India.\n",
      "\n",
      "\n",
      "원문 : India recorded their lowest ODI total in New Zealand after getting all out for 92 runs in 30.5 overs in the fourth ODI at Hamilton on Thursday. Seven of India's batsmen were dismissed for single-digit scores, while their number ten batsman Yuzvendra Chahal top-scored with 18*(37). India's previous lowest ODI total in New Zealand was 108.\n",
      "실제 요약 : India get all out for 92, their lowest ODI total in New Zealand\n",
      "추출 요약 : India's previous lowest ODI total in New Zealand was 108.\n",
      "\n",
      "\n",
      "원문 : Weeks after ex-CBI Director Alok Verma told the Department of Personnel and Training to consider him retired, the Home Ministry asked him to join work on the last day of his fixed tenure as Director on Thursday. The ministry directed him to immediately join as DG, Fire Services, the post he was transferred to after his removal as CBI chief.\n",
      "실제 요약 : Govt directs Alok Verma to join work 1 day before his retirement\n",
      "추출 요약 : Weeks after ex-CBI Director Alok Verma told the Department of Personnel and Training to consider him retired, the Home Ministry asked him to join work on the last day of his fixed tenure as Director on Thursday.\n",
      "\n",
      "\n",
      "원문 : Andhra Pradesh CM N Chandrababu Naidu has said, \"When I met then US President Bill Clinton, I addressed him as Mr Clinton, not as 'sir'. (PM Narendra) Modi is my junior in politics...I addressed him as sir 10 times.\" \"I did this...to satisfy his ego in the hope that he will do justice to the state,\" he added.\n",
      "실제 요약 : Called PM Modi 'sir' 10 times to satisfy his ego: Andhra CM\n",
      "추출 요약 : Andhra Pradesh CM N Chandrababu Naidu has said, \"When I met then US President Bill Clinton, I addressed him as Mr Clinton, not as 'sir'.\n",
      "\n",
      "\n",
      "원문 : Congress candidate Shafia Zubair won the Ramgarh Assembly seat in Rajasthan, by defeating BJP's Sukhwant Singh with a margin of 12,228 votes in the bypoll. With this victory, Congress has taken its total to 100 seats in the 200-member assembly. The election to the Ramgarh seat was delayed due to the death of sitting MLA and BSP candidate Laxman Singh.\n",
      "실제 요약 : Cong wins Ramgarh bypoll in Rajasthan, takes total to 100 seats\n",
      "추출 요약 : Congress candidate Shafia Zubair won the Ramgarh Assembly seat in Rajasthan, by defeating BJP's Sukhwant Singh with a margin of 12,228 votes in the bypoll.\n",
      "\n",
      "\n"
     ]
    }
   ],
   "source": [
    "for i in range(0, 10):\n",
    "    print(\"원문 :\", text['text'][i])\n",
    "    print(\"실제 요약 :\", text['headlines'][i])\n",
    "    print(\"추출 요약 :\", summarize(text[\"text\"][i], ratio=0.5))\n",
    "    print(\"\\n\")"
   ]
  },
  {
   "cell_type": "code",
   "execution_count": 23,
   "id": "69d89cf7",
   "metadata": {},
   "outputs": [
    {
     "name": "stdout",
     "output_type": "stream",
     "text": [
      "원문 : Saurav Kant, an alumnus of upGrad and IIIT-B's PG Program in Machine learning and Artificial Intelligence, was a Sr Systems Engineer at Infosys with almost 5 years of work experience. The program and upGrad's 360-degree career support helped him transition to a Data Scientist at Tech Mahindra with 90% salary hike. upGrad's Online Power Learning has powered 3 lakh+ careers.\n",
      "실제 요약 : upGrad learner switches to career in ML & Al with 90% salary hike\n",
      "추출 요약 : upGrad's Online Power Learning has powered 3 lakh+ careers.\n",
      "\n",
      "\n",
      "원문 : Kunal Shah's credit card bill payment platform, CRED, gave users a chance to win free food from Swiggy for one year. Pranav Kaushik, a Delhi techie, bagged this reward after spending 2000 CRED coins. Users get one CRED coin per rupee of bill paid, which can be used to avail rewards from brands like Ixigo, BookMyShow, UberEats, Cult.Fit and more.\n",
      "실제 요약 : Delhi techie wins free food from Swiggy for one year on CRED\n",
      "추출 요약 : Users get one CRED coin per rupee of bill paid, which can be used to avail rewards from brands like Ixigo, BookMyShow, UberEats, Cult.Fit and more.\n",
      "\n",
      "\n",
      "원문 : New Zealand defeated India by 8 wickets in the fourth ODI at Hamilton on Thursday to win their first match of the five-match ODI series. India lost an international match under Rohit Sharma's captaincy after 12 consecutive victories dating back to March 2018. The match witnessed India getting all out for 92, their seventh lowest total in ODI cricket history.\n",
      "실제 요약 : New Zealand end Rohit Sharma-led India's 12-match winning streak\n",
      "추출 요약 : The match witnessed India getting all out for 92, their seventh lowest total in ODI cricket history.\n",
      "\n",
      "\n",
      "원문 : With Aegon Life iTerm Insurance plan, customers can enjoy tax benefits on your premiums paid and save up to Ã¢ÂÂ¹46,800^ on taxes. The plan provides life cover up to the age of 100 years. Also, customers have options to insure against Critical Illnesses, Disability and Accidental Death Benefit Rider with a life cover up to the age of 80 years.\n",
      "실제 요약 : Aegon life iTerm insurance plan helps customers save tax\n",
      "추출 요약 : Also, customers have options to insure against Critical Illnesses, Disability and Accidental Death Benefit Rider with a life cover up to the age of 80 years.\n",
      "\n",
      "\n",
      "원문 : Speaking about the sexual harassment allegations against Rajkumar Hirani, Sonam Kapoor said, \"I've known Hirani for many years...What if it's not true, the [#MeToo] movement will get derailed.\" \"In the #MeToo movement, I always believe a woman. But in this case, we need to reserve our judgment,\" she added. Hirani has been accused by an assistant who worked in 'Sanju'.\n",
      "실제 요약 : Have known Hirani for yrs, what if MeToo claims are not true: Sonam\n",
      "추출 요약 : Speaking about the sexual harassment allegations against Rajkumar Hirani, Sonam Kapoor said, \"I've known Hirani for many years...What if it's not true, the [#MeToo] movement will get derailed.\" \"In the #MeToo movement, I always believe a woman.\n",
      "\n",
      "\n",
      "원문 : Pakistani singer Rahat Fateh Ali Khan has denied receiving any notice from the Enforcement Directorate over allegedly smuggling foreign currency out of India. \"It would have been better if the authorities would have served the notice first if any and then publicised this,\" reads a press release issued on behalf of Rahat. The statement further called the allegation \"bizarre\".\n",
      "실제 요약 : Rahat Fateh Ali Khan denies getting notice for smuggling currency\n",
      "추출 요약 : Pakistani singer Rahat Fateh Ali Khan has denied receiving any notice from the Enforcement Directorate over allegedly smuggling foreign currency out of India.\n",
      "\n",
      "\n",
      "원문 : India recorded their lowest ODI total in New Zealand after getting all out for 92 runs in 30.5 overs in the fourth ODI at Hamilton on Thursday. Seven of India's batsmen were dismissed for single-digit scores, while their number ten batsman Yuzvendra Chahal top-scored with 18*(37). India's previous lowest ODI total in New Zealand was 108.\n",
      "실제 요약 : India get all out for 92, their lowest ODI total in New Zealand\n",
      "추출 요약 : India's previous lowest ODI total in New Zealand was 108.\n",
      "\n",
      "\n",
      "원문 : Weeks after ex-CBI Director Alok Verma told the Department of Personnel and Training to consider him retired, the Home Ministry asked him to join work on the last day of his fixed tenure as Director on Thursday. The ministry directed him to immediately join as DG, Fire Services, the post he was transferred to after his removal as CBI chief.\n",
      "실제 요약 : Govt directs Alok Verma to join work 1 day before his retirement\n",
      "추출 요약 : Weeks after ex-CBI Director Alok Verma told the Department of Personnel and Training to consider him retired, the Home Ministry asked him to join work on the last day of his fixed tenure as Director on Thursday.\n",
      "\n",
      "\n",
      "원문 : Andhra Pradesh CM N Chandrababu Naidu has said, \"When I met then US President Bill Clinton, I addressed him as Mr Clinton, not as 'sir'. (PM Narendra) Modi is my junior in politics...I addressed him as sir 10 times.\" \"I did this...to satisfy his ego in the hope that he will do justice to the state,\" he added.\n",
      "실제 요약 : Called PM Modi 'sir' 10 times to satisfy his ego: Andhra CM\n",
      "추출 요약 : Andhra Pradesh CM N Chandrababu Naidu has said, \"When I met then US President Bill Clinton, I addressed him as Mr Clinton, not as 'sir'.\n",
      "\n",
      "\n",
      "원문 : Congress candidate Shafia Zubair won the Ramgarh Assembly seat in Rajasthan, by defeating BJP's Sukhwant Singh with a margin of 12,228 votes in the bypoll. With this victory, Congress has taken its total to 100 seats in the 200-member assembly. The election to the Ramgarh seat was delayed due to the death of sitting MLA and BSP candidate Laxman Singh.\n",
      "실제 요약 : Cong wins Ramgarh bypoll in Rajasthan, takes total to 100 seats\n",
      "추출 요약 : Congress candidate Shafia Zubair won the Ramgarh Assembly seat in Rajasthan, by defeating BJP's Sukhwant Singh with a margin of 12,228 votes in the bypoll.\n",
      "\n",
      "\n"
     ]
    }
   ],
   "source": [
    "for i in range(0, 10):\n",
    "    print(\"원문 :\", text['text'][i])\n",
    "    print(\"실제 요약 :\", text['headlines'][i])\n",
    "    print(\"추출 요약 :\", summarize(text['text'][i], ratio=0.6))\n",
    "    print(\"\\n\")"
   ]
  },
  {
   "cell_type": "markdown",
   "id": "3841526e",
   "metadata": {},
   "source": [
    "# 회고\n",
    "**ratio (float, optional) – 요약문에서 원본에서 선택되는 문장 비율. 0~1 사이값**\n",
    "\n",
    "ratio를 너무 낮게 설정했더니 추출요약이 계속 안 나왔다\n",
    "그래서 코드를 계속 문제점이 어떤 건지 찾아다녔다.\n",
    "수많은 시간을 썼다.\n",
    "\n",
    "그런데\n",
    "ratio설정값과 코드를 몇가지 바꾸고 하니 설정값을 0.4 or 0.45이하로 하니깐 추출요약이 나오지 않고 생략되는 부분들이 생겼다.\n",
    "그래서 0.5이상으로 설정값을 변경하니 추출요약이 나왔다.\n",
    "원문의 문장 비율이 안 맞아서 그런것 같다.\n",
    "\n",
    "추출요약이 나오는 순간 환호를 질렀다.얏호"
   ]
  },
  {
   "cell_type": "code",
   "execution_count": null,
   "id": "c8dff8be",
   "metadata": {},
   "outputs": [],
   "source": []
  }
 ],
 "metadata": {
  "kernelspec": {
   "display_name": "Python 3 (ipykernel)",
   "language": "python",
   "name": "python3"
  },
  "language_info": {
   "codemirror_mode": {
    "name": "ipython",
    "version": 3
   },
   "file_extension": ".py",
   "mimetype": "text/x-python",
   "name": "python",
   "nbconvert_exporter": "python",
   "pygments_lexer": "ipython3",
   "version": "3.9.7"
  }
 },
 "nbformat": 4,
 "nbformat_minor": 5
}
