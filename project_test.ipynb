{
 "cells": [
  {
   "cell_type": "markdown",
   "id": "a6684167",
   "metadata": {},
   "source": [
    "# [E_00]프로젝트명\n",
    "\n",
    "## 목차\n",
    "**0. [들어가며](#0.-들어가며)**  \n",
    "**&#160;&#160; 0-1. [학습목표](#0-1.-학습목표)**  \n",
    "**1. [라이브러리 import](#1.-라이브러리-import)**  \n",
    "**2. [데이터](#2.-데이터)**  \n",
    "**&#160;&#160; 2-1. [데이터 받아오기 & 살펴보기](#2-1.-데이터-받아오기-&-살펴보기)**  \n",
    "**&#160;&#160; 2-2. [데이터 전처리](#2-2.-데이터-전처리)**  \n",
    "**3. [모델 만들기](#3.-모델-만들기)**  \n",
    "**4. [학습하기 & 테스트하기](#4.-학습하기-&-테스트하기)**  \n",
    "**5. [세부평가](#5.-세부평가)**  \n",
    "**6. [마치며(회고)](#6.-마치며)**  \n",
    "\n",
    "**[전체코드 (확인을 제외한 실행코드)](#전체코드-(확인을-제외한-실행코드))**  \n",
    "\n",
    "---\n",
    "### 루브릭 평가기준\n",
    "|**평가문항**|**상세기준**|\n",
    "|:---|:---|\n",
    "|1. 평가문항|상세기준|\n",
    "|2. 평가문항|상세기준|\n",
    "|3. 평가문항|상세기준|\n",
    "\n",
    "---`"
   ]
  },
  {
   "cell_type": "markdown",
   "id": "32d3cf27",
   "metadata": {},
   "source": [
    "## 0. 들어가며\n",
    "<br/>\n",
    "\n",
    "### 학습목표\n",
    "**1. 학습목표**  \n",
    "**2. 학습목표**  \n",
    "**3. 학습목표**  \n",
    "**4. 학습목표**  \n",
    "**5. 학습목표**  \n",
    "\n",
    "<br/>\n",
    "\n",
    "여기서부터 작성하세요"
   ]
  },
  {
   "cell_type": "markdown",
   "id": "8339292b",
   "metadata": {},
   "source": [
    "## 1. 라이브러리 import\n",
    "## 2. 데이터\n",
    "### 2-1. 데이터 받아오기 & 살펴보기\n",
    "### 2-2. 데이터 전처리\n",
    "## 3. 모델 만들기\n",
    "## 4. 학습하기 & 테스트하기\n",
    "## 5. 세부평가\n",
    "## 6. 마치며(회고)\n",
    "## 전체코드 (확인을 제외한 실행코드)"
   ]
  },
  {
   "cell_type": "markdown",
   "id": "257fc194",
   "metadata": {},
   "source": [
    "```markdown\n",
    "```python\n",
    "print('Hello, world!')\n",
    "```\n",
    "```"
   ]
  },
  {
   "cell_type": "code",
   "execution_count": null,
   "id": "f9b90f7f",
   "metadata": {},
   "outputs": [],
   "source": []
  }
 ],
 "metadata": {
  "kernelspec": {
   "display_name": "Python 3 (ipykernel)",
   "language": "python",
   "name": "python3"
  },
  "language_info": {
   "codemirror_mode": {
    "name": "ipython",
    "version": 3
   },
   "file_extension": ".py",
   "mimetype": "text/x-python",
   "name": "python",
   "nbconvert_exporter": "python",
   "pygments_lexer": "ipython3",
   "version": "3.9.7"
  }
 },
 "nbformat": 4,
 "nbformat_minor": 5
}
