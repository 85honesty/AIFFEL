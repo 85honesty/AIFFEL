{
 "cells": [
  {
   "cell_type": "markdown",
   "id": "e6c59f69",
   "metadata": {},
   "source": [
    "# 11. 어제 오른 내 주식, 과연 내일은?\n",
    "## 1-9. 프로젝트 : 주식 예측에 도전해 보자\n",
    "\n",
    "- 1. NVDA\n",
    "- 2. AMD\n",
    "- 3. INTEL"
   ]
  },
  {
   "cell_type": "markdown",
   "id": "2024168d",
   "metadata": {},
   "source": [
    "# AMD\n",
    "\n",
    "![](https://encrypted-tbn0.gstatic.com/images?q=tbn:ANd9GcTabDQqQdLB4VsxpZpJ1xgEHDMY0ZkWfOXAZiiaXk0scN3INSU3DgY-ui5VifgTL3SyB_E&usqp=CAU)\n",
    "[AMD Stock Status](https://finance.yahoo.com/quote/AMD?p=AMD&.tsrc=fin-srch)"
   ]
  },
  {
   "cell_type": "markdown",
   "id": "86ac7682",
   "metadata": {},
   "source": [
    "# STEP 1 : 시계열 데이터 준비\n",
    "- 라이브러리 로드\n",
    "- 데이터 셋 로드\n",
    "- 데이터 크기\n",
    "- 데이터 정보\n",
    "- info()함수 활용 - 정보 확인\n",
    "- 종가(Close)만 앞부분 출력 확인"
   ]
  },
  {
   "cell_type": "code",
   "execution_count": 1,
   "id": "61cd67bf",
   "metadata": {
    "scrolled": true
   },
   "outputs": [],
   "source": [
    "#라이브러리 로드\n",
    "import os\n",
    "import numpy as np\n",
    "import pandas as pd\n",
    "import matplotlib.pyplot as plt"
   ]
  },
  {
   "cell_type": "code",
   "execution_count": 2,
   "id": "c9cd6c6a",
   "metadata": {},
   "outputs": [
    {
     "data": {
      "text/html": [
       "<div>\n",
       "<style scoped>\n",
       "    .dataframe tbody tr th:only-of-type {\n",
       "        vertical-align: middle;\n",
       "    }\n",
       "\n",
       "    .dataframe tbody tr th {\n",
       "        vertical-align: top;\n",
       "    }\n",
       "\n",
       "    .dataframe thead th {\n",
       "        text-align: right;\n",
       "    }\n",
       "</style>\n",
       "<table border=\"1\" class=\"dataframe\">\n",
       "  <thead>\n",
       "    <tr style=\"text-align: right;\">\n",
       "      <th></th>\n",
       "      <th>Date</th>\n",
       "      <th>Open</th>\n",
       "      <th>High</th>\n",
       "      <th>Low</th>\n",
       "      <th>Close</th>\n",
       "      <th>Adj Close</th>\n",
       "      <th>Volume</th>\n",
       "    </tr>\n",
       "  </thead>\n",
       "  <tbody>\n",
       "    <tr>\n",
       "      <th>0</th>\n",
       "      <td>2021-02-17</td>\n",
       "      <td>90.559998</td>\n",
       "      <td>90.959999</td>\n",
       "      <td>88.570000</td>\n",
       "      <td>89.940002</td>\n",
       "      <td>89.940002</td>\n",
       "      <td>32245500</td>\n",
       "    </tr>\n",
       "    <tr>\n",
       "      <th>1</th>\n",
       "      <td>2021-02-18</td>\n",
       "      <td>89.089996</td>\n",
       "      <td>89.599998</td>\n",
       "      <td>87.309998</td>\n",
       "      <td>88.639999</td>\n",
       "      <td>88.639999</td>\n",
       "      <td>35624900</td>\n",
       "    </tr>\n",
       "    <tr>\n",
       "      <th>2</th>\n",
       "      <td>2021-02-19</td>\n",
       "      <td>89.750000</td>\n",
       "      <td>90.419998</td>\n",
       "      <td>88.690002</td>\n",
       "      <td>89.580002</td>\n",
       "      <td>89.580002</td>\n",
       "      <td>29548300</td>\n",
       "    </tr>\n",
       "    <tr>\n",
       "      <th>3</th>\n",
       "      <td>2021-02-22</td>\n",
       "      <td>88.150002</td>\n",
       "      <td>88.300003</td>\n",
       "      <td>85.209999</td>\n",
       "      <td>85.370003</td>\n",
       "      <td>85.370003</td>\n",
       "      <td>36930200</td>\n",
       "    </tr>\n",
       "    <tr>\n",
       "      <th>4</th>\n",
       "      <td>2021-02-23</td>\n",
       "      <td>83.400002</td>\n",
       "      <td>85.110001</td>\n",
       "      <td>79.360001</td>\n",
       "      <td>84.739998</td>\n",
       "      <td>84.739998</td>\n",
       "      <td>49720900</td>\n",
       "    </tr>\n",
       "  </tbody>\n",
       "</table>\n",
       "</div>"
      ],
      "text/plain": [
       "         Date       Open       High        Low      Close  Adj Close    Volume\n",
       "0  2021-02-17  90.559998  90.959999  88.570000  89.940002  89.940002  32245500\n",
       "1  2021-02-18  89.089996  89.599998  87.309998  88.639999  88.639999  35624900\n",
       "2  2021-02-19  89.750000  90.419998  88.690002  89.580002  89.580002  29548300\n",
       "3  2021-02-22  88.150002  88.300003  85.209999  85.370003  85.370003  36930200\n",
       "4  2021-02-23  83.400002  85.110001  79.360001  84.739998  84.739998  49720900"
      ]
     },
     "execution_count": 2,
     "metadata": {},
     "output_type": "execute_result"
    }
   ],
   "source": [
    "#데이터셋 로드\n",
    "dataset_filepath = os.getenv('HOME') + '/aiffel/stock_prediction/AMD.csv'\n",
    "df = pd.read_csv(dataset_filepath)\n",
    "\n",
    "df.head()"
   ]
  },
  {
   "cell_type": "code",
   "execution_count": 3,
   "id": "cbb0b07c",
   "metadata": {},
   "outputs": [
    {
     "data": {
      "text/plain": [
       "(254, 7)"
      ]
     },
     "execution_count": 3,
     "metadata": {},
     "output_type": "execute_result"
    }
   ],
   "source": [
    "# 데이터 크기\n",
    "df.shape"
   ]
  },
  {
   "cell_type": "code",
   "execution_count": 4,
   "id": "972a7119",
   "metadata": {
    "scrolled": true
   },
   "outputs": [
    {
     "data": {
      "text/plain": [
       "<bound method DataFrame.info of            Date        Open        High         Low       Close   Adj Close  \\\n",
       "0    2021-02-17   90.559998   90.959999   88.570000   89.940002   89.940002   \n",
       "1    2021-02-18   89.089996   89.599998   87.309998   88.639999   88.639999   \n",
       "2    2021-02-19   89.750000   90.419998   88.690002   89.580002   89.580002   \n",
       "3    2021-02-22   88.150002   88.300003   85.209999   85.370003   85.370003   \n",
       "4    2021-02-23   83.400002   85.110001   79.360001   84.739998   84.739998   \n",
       "..          ...         ...         ...         ...         ...         ...   \n",
       "249  2022-02-10  128.839996  131.759995  124.610001  125.769997  125.769997   \n",
       "250  2022-02-11  126.139999  127.169998  111.809998  113.180000  113.180000   \n",
       "251  2022-02-14  115.510002  118.370003  113.459999  114.269997  114.269997   \n",
       "252  2022-02-15  117.190002  121.879997  114.360001  121.470001  121.470001   \n",
       "253  2022-02-16  119.050003  119.540001  114.220001  117.690002  117.690002   \n",
       "\n",
       "        Volume  \n",
       "0     32245500  \n",
       "1     35624900  \n",
       "2     29548300  \n",
       "3     36930200  \n",
       "4     49720900  \n",
       "..         ...  \n",
       "249  108939900  \n",
       "250  164482400  \n",
       "251  129945600  \n",
       "252  144139700  \n",
       "253  118954700  \n",
       "\n",
       "[254 rows x 7 columns]>"
      ]
     },
     "execution_count": 4,
     "metadata": {},
     "output_type": "execute_result"
    }
   ],
   "source": [
    "#데이터 정보\n",
    "df.info"
   ]
  },
  {
   "cell_type": "markdown",
   "id": "1d968c21",
   "metadata": {},
   "source": [
    "> # info()함수 활용 - 정보 확인\n",
    "- 각 행, 컬럼, 인텍스, 결측치, 타입, 메모리 사용, 데이터 범위 등 다양한 정보를 확인\n",
    "    - 254씩 행이 들어가 있는 걸 확인 할 수 있으며\n",
    "    - 결측치가 없는 걸로 보여지며\n",
    "    - 타입은 Date : object , Volume : int64 정수이고 그외에 타입은 float64 소수인 걸 확인"
   ]
  },
  {
   "cell_type": "code",
   "execution_count": 5,
   "id": "cc9e7be9",
   "metadata": {
    "scrolled": true
   },
   "outputs": [
    {
     "name": "stdout",
     "output_type": "stream",
     "text": [
      "<class 'pandas.core.frame.DataFrame'>\n",
      "RangeIndex: 254 entries, 0 to 253\n",
      "Data columns (total 7 columns):\n",
      " #   Column     Non-Null Count  Dtype  \n",
      "---  ------     --------------  -----  \n",
      " 0   Date       254 non-null    object \n",
      " 1   Open       254 non-null    float64\n",
      " 2   High       254 non-null    float64\n",
      " 3   Low        254 non-null    float64\n",
      " 4   Close      254 non-null    float64\n",
      " 5   Adj Close  254 non-null    float64\n",
      " 6   Volume     254 non-null    int64  \n",
      "dtypes: float64(5), int64(1), object(1)\n",
      "memory usage: 14.0+ KB\n"
     ]
    }
   ],
   "source": [
    "df.info()"
   ]
  },
  {
   "cell_type": "code",
   "execution_count": 6,
   "id": "f762ea46",
   "metadata": {},
   "outputs": [
    {
     "data": {
      "text/plain": [
       "0    89.940002\n",
       "1    88.639999\n",
       "2    89.580002\n",
       "3    85.370003\n",
       "4    84.739998\n",
       "Name: Close, dtype: float64"
      ]
     },
     "execution_count": 6,
     "metadata": {},
     "output_type": "execute_result"
    }
   ],
   "source": [
    "# 종가(Close)만 앞부분 출력 확인\n",
    "ts = df['Close']\n",
    "\n",
    "ts.head()"
   ]
  },
  {
   "cell_type": "markdown",
   "id": "80660f16",
   "metadata": {},
   "source": [
    "# STEP 2 : 각종 전처리 수행\n",
    "- 결측치 처리\n",
    "- 로그 변환"
   ]
  },
  {
   "cell_type": "code",
   "execution_count": 7,
   "id": "bdc584d8",
   "metadata": {},
   "outputs": [
    {
     "data": {
      "text/plain": [
       "Series([], Name: Close, dtype: float64)"
      ]
     },
     "execution_count": 7,
     "metadata": {},
     "output_type": "execute_result"
    }
   ],
   "source": [
    "# 결측치 처리\n",
    "ts = ts.interpolate(method='time')\n",
    "ts[ts.isna()]  # Time Series에서 결측치가 있는 부분만 Series로 출력합니다. "
   ]
  },
  {
   "cell_type": "code",
   "execution_count": 8,
   "id": "dd9af6f5",
   "metadata": {},
   "outputs": [],
   "source": [
    "# 로그 변환 시도 \n",
    "ts_log = np.log(ts)"
   ]
  },
  {
   "cell_type": "markdown",
   "id": "61f9b1ac",
   "metadata": {},
   "source": [
    "# STEP 3 : 시계열 안정성 분석\n",
    "- 정성적 그래프 분석\n",
    "- 정량적 Augmented Dicky-Fuller Test\n",
    "- 시계열 분해(Time Series Decomposition)\n",
    "- Residual 안정성 확인"
   ]
  },
  {
   "cell_type": "code",
   "execution_count": 12,
   "id": "575ddb0b",
   "metadata": {},
   "outputs": [],
   "source": [
    "# 정성적 그래프 분석\n",
    "def plot_rolling_statistics(timeseries, window=12):\n",
    "    \n",
    "    rolmean = timeseries.rolling(window=window).mean() # 이동 평균 시계열\n",
    "    rolstd = timeseries.rolling(window=window).std() # 이동 표준편차 시계열\n",
    "    \n",
    "    # 원본 시계열, 이동평균, 이동표준편차를 plot으로 시각화\n",
    "    orig = plt.plot(timeseries, color='blue', label = 'Original')\n",
    "    mean = plt.plot(rolmean, color='red', label = 'Rolling Mean')\n",
    "    std = plt.plot(rolstd, color='green', label = 'Rolling Std')\n",
    "    plt.legend(loc='best')\n",
    "    plt.title(\"Rolling Mean & Standard Derivatioin\")\n",
    "    plt.show(block = False)"
   ]
  },
  {
   "cell_type": "code",
   "execution_count": 13,
   "id": "8e3dd6db",
   "metadata": {
    "scrolled": true
   },
   "outputs": [
    {
     "data": {
      "image/png": "[encoded data removed]",
      "text/plain": [
       "<Figure size 432x288 with 1 Axes>"
      ]
     },
     "metadata": {
      "needs_background": "light"
     },
     "output_type": "display_data"
    }
   ],
   "source": [
    "# 정성적 그래프 분석\n",
    "plot_rolling_statistics(ts_log, window=12)"
   ]
  },
  {
   "cell_type": "code",
   "execution_count": null,
   "id": "6c7606e0",
   "metadata": {},
   "outputs": [],
   "source": [
    "#정량적 Augmented Dicky-Fuller Test\n",
    "augmented_dickey_fuller_test(ts_log)"
   ]
  },
  {
   "cell_type": "code",
   "execution_count": null,
   "id": "eef20626",
   "metadata": {},
   "outputs": [],
   "source": [
    "#시계열 분해 (Time Series Decomposition)\n",
    "from statsmodels.tsa.seasonal import seasonal_decompose\n",
    "decomposition = seasonal_decompose(ts_log, model='multiplicative', period = 30)\n",
    "\n",
    "trend = decomposition.trend\n",
    "seasonal = decomposition.seasonal\n",
    "residual = decomposition.resid\n",
    "\n",
    "plt.subplot(411)\n",
    "plt.plot(ts_log, label='Original')\n",
    "plt.legend(loc='best')\n",
    "plt.subplot(412)\n",
    "plt.plot(trend, label='Trend')\n",
    "plt.legend(loc='best')\n",
    "plt.subplot(413)\n",
    "plt.plot(seasonal,label='Seasonality')\n",
    "plt.legend(loc='best')\n",
    "plt.subplot(414)\n",
    "plt.plot(residual, label='Residuals')\n",
    "plt.legend(loc='best')\n",
    "plt.tight_layout()"
   ]
  },
  {
   "cell_type": "code",
   "execution_count": null,
   "id": "c994c48c",
   "metadata": {},
   "outputs": [],
   "source": [
    "# Residual 안정성 확인\n",
    "residual.dropna(inplace=True)\n",
    "augmented_dickey_fuller_test(residual)"
   ]
  },
  {
   "cell_type": "markdown",
   "id": "8339a5b8",
   "metadata": {},
   "source": [
    "# STEP 5 : 적정 ARIMA 모수 찾기\n",
    "- ACF, PACF 그려보기 -> p,q 구하기\n",
    "- 차분 안정성 확인 -> d 구하기\n",
    "    - 1차분 구하기\n",
    "    - 2차분 구하기"
   ]
  },
  {
   "cell_type": "code",
   "execution_count": null,
   "id": "e5459bb6",
   "metadata": {},
   "outputs": [],
   "source": [
    "# ACF, PACF 그려보기 -> p,q 구하기\n",
    "plt.figure(figsize=(15,4))\n",
    "plot_acf(ts_log)   # ACF : Autocorrelation 그래프 그리기\n",
    "plot_pacf(ts_log)  # PACF : Partial Autocorrelation 그래프 그리기\n",
    "plt.show()\n"
   ]
  },
  {
   "cell_type": "code",
   "execution_count": null,
   "id": "73af8708",
   "metadata": {},
   "outputs": [],
   "source": [
    "# 1차 차분 구하기\n",
    "diff_1 = ts_log.diff(periods=1).iloc[1:]\n",
    "diff_1.plot(title='Difference 1st')\n",
    "\n",
    "augmented_dickey_fuller_test(diff_1)"
   ]
  },
  {
   "cell_type": "code",
   "execution_count": null,
   "id": "9f49f82b",
   "metadata": {},
   "outputs": [],
   "source": [
    "# 2차 차분 구하기\n",
    "diff_2 = diff_1.diff(periods=1).iloc[1:]\n",
    "diff_2.plot(title='Difference 2nd')\n",
    "\n",
    "augmented_dickey_fuller_test(diff_2)"
   ]
  },
  {
   "cell_type": "markdown",
   "id": "ed5a3b40",
   "metadata": {},
   "source": [
    "# STEP 6 : ARIMA 모델 훈련과 테스트\n",
    "- 학습 데이터 분리\n",
    "- 데이터셋의 형태 확인\n",
    "- 경고 무시\n",
    "- ARIMA 모델 빌드와 훈련\n",
    "    - Build Model\n",
    "- 모델 테스트 및 플로팅\n",
    "- 최종 예측 모델 정확도 측정(MAPE)"
   ]
  },
  {
   "cell_type": "code",
   "execution_count": 21,
   "id": "15502a70",
   "metadata": {},
   "outputs": [],
   "source": [
    "# 학습 데이터 분리 : 학습 데이터와 테스트 데이터를 분리 / 분리 비율은 학습과 테스트에 9:1\n",
    "train_data, test_data = ts_log[:int(len(ts_log)*0.9)], ts_log[int(len(ts_log)*0.9):]"
   ]
  },
  {
   "cell_type": "code",
   "execution_count": 22,
   "id": "ae0a8b0e",
   "metadata": {},
   "outputs": [
    {
     "data": {
      "text/plain": [
       "<matplotlib.legend.Legend at 0x7fc43ad3d7c0>"
      ]
     },
     "execution_count": 22,
     "metadata": {},
     "output_type": "execute_result"
    },
    {
     "data": {
      "image/png": "[encoded data removed]",
      "text/plain": [
       "<Figure size 720x432 with 1 Axes>"
      ]
     },
     "metadata": {
      "needs_background": "light"
     },
     "output_type": "display_data"
    }
   ],
   "source": [
    "# 데이터셋의 형태 확인\n",
    "plt.figure(figsize=(10,6))\n",
    "plt.grid(True)\n",
    "plt.plot(ts_log, c='r', label='training dataset')  # train_data를 적용하면 그래프가 끊어져 보이므로 자연스러운 연출을 위해 ts_log를 선택\n",
    "plt.plot(test_data, c='b', label='test dataset')\n",
    "plt.legend()"
   ]
  },
  {
   "cell_type": "code",
   "execution_count": 23,
   "id": "bd2e4b34",
   "metadata": {},
   "outputs": [
    {
     "name": "stdout",
     "output_type": "stream",
     "text": [
      "0    4.499143\n",
      "1    4.484583\n",
      "Name: Close, dtype: float64\n",
      "(228,)\n",
      "(26,)\n"
     ]
    }
   ],
   "source": [
    "print(ts_log[:2])\n",
    "print(train_data.shape)\n",
    "print(test_data.shape)"
   ]
  },
  {
   "cell_type": "code",
   "execution_count": 24,
   "id": "31db939c",
   "metadata": {},
   "outputs": [
    {
     "name": "stdout",
     "output_type": "stream",
     "text": [
      "                               SARIMAX Results                                \n",
      "==============================================================================\n",
      "Dep. Variable:                  Close   No. Observations:                  228\n",
      "Model:                 ARIMA(2, 0, 1)   Log Likelihood                 495.574\n",
      "Date:                Thu, 17 Feb 2022   AIC                           -981.148\n",
      "Time:                        13:30:25   BIC                           -964.001\n",
      "Sample:                             0   HQIC                          -974.230\n",
      "                                - 228                                         \n",
      "Covariance Type:                  opg                                         \n",
      "==============================================================================\n",
      "                 coef    std err          z      P>|z|      [0.025      0.975]\n",
      "------------------------------------------------------------------------------\n",
      "const          4.6119      0.435     10.596      0.000       3.759       5.465\n",
      "ar.L1          0.7474      0.953      0.784      0.433      -1.120       2.615\n",
      "ar.L2          0.2476      0.948      0.261      0.794      -1.610       2.105\n",
      "ma.L1          0.1915      0.973      0.197      0.844      -1.715       2.098\n",
      "sigma2         0.0007   6.26e-05     11.847      0.000       0.001       0.001\n",
      "===================================================================================\n",
      "Ljung-Box (L1) (Q):                   0.01   Jarque-Bera (JB):                 4.30\n",
      "Prob(Q):                              0.94   Prob(JB):                         0.12\n",
      "Heteroskedasticity (H):               1.63   Skew:                             0.19\n",
      "Prob(H) (two-sided):                  0.03   Kurtosis:                         3.55\n",
      "===================================================================================\n",
      "\n",
      "Warnings:\n",
      "[1] Covariance matrix calculated using the outer product of gradients (complex-step).\n"
     ]
    }
   ],
   "source": [
    "import warnings\n",
    "warnings.filterwarnings('ignore') #경고 무시\n",
    "\n",
    "# ARIMA 모델 빌드와 훈련\n",
    "from statsmodels.tsa.arima.model import ARIMA\n",
    "\n",
    "# Build Model\n",
    "model = ARIMA(train_data, order=(2, 0, 1))  \n",
    "fitted_m = model.fit() \n",
    "\n",
    "print(fitted_m.summary())"
   ]
  },
  {
   "cell_type": "code",
   "execution_count": 25,
   "id": "259ce513",
   "metadata": {},
   "outputs": [
    {
     "data": {
      "image/png": "[encoded data removed]",
      "text/plain": [
       "<Figure size 1000x500 with 1 Axes>"
      ]
     },
     "metadata": {
      "needs_background": "light"
     },
     "output_type": "display_data"
    }
   ],
   "source": [
    "#모델 테스트 및 플로팅\n",
    "\n",
    "# Forecast : 결과가 fc에 담깁니다. \n",
    "fc = fitted_m.forecast(len(test_data), alpha=0.05)  # 95% conf\n",
    "fc = np.array(fc)\n",
    "# Make as pandas series\n",
    "fc_series = pd.Series(fc, index=test_data.index)   # 예측결과\n",
    "\n",
    "# Plot\n",
    "plt.figure(figsize=(10,5), dpi=100)\n",
    "plt.plot(train_data, label='training')\n",
    "plt.plot(test_data, c='b', label='actual price')\n",
    "plt.plot(fc_series, c='r',label='predicted price')\n",
    "plt.legend()\n",
    "plt.show()"
   ]
  },
  {
   "cell_type": "code",
   "execution_count": 26,
   "id": "34345432",
   "metadata": {},
   "outputs": [
    {
     "name": "stdout",
     "output_type": "stream",
     "text": [
      "MSE:  152.3992766009352\n",
      "MAE:  10.062945171091057\n",
      "RMSE:  12.345010190394142\n",
      "MAPE: 8.74%\n"
     ]
    }
   ],
   "source": [
    "# 최종 예측 모델 정확도 측정(MAPE)\n",
    "from sklearn.metrics import mean_squared_error, mean_absolute_error\n",
    "import math\n",
    "\n",
    "mse = mean_squared_error(np.exp(test_data), np.exp(fc))\n",
    "print('MSE: ', mse)\n",
    "\n",
    "mae = mean_absolute_error(np.exp(test_data), np.exp(fc))\n",
    "print('MAE: ', mae)\n",
    "\n",
    "rmse = math.sqrt(mean_squared_error(np.exp(test_data), np.exp(fc)))\n",
    "print('RMSE: ', rmse)\n",
    "\n",
    "mape = np.mean(np.abs(np.exp(fc) - np.exp(test_data))/np.abs(np.exp(test_data)))\n",
    "print('MAPE: {:.2f}%'.format(mape*100))\n"
   ]
  },
  {
   "cell_type": "markdown",
   "id": "eb45a00b",
   "metadata": {},
   "source": [
    "# STEP 7 : 다른 주식 종목 예측해 보기\n",
    ">최종 예측 모델 정확도 측정(MAPE)\n",
    ">- MSE : 평균제곱오차 - 잔차(오차)의 제곱에 대한 평균을 취한 값\n",
    ">- MAE : 평균절대오차 - 모든 절대 오차의 평균\n",
    ">- RMSE: 평균제곱근 편차 - 추정 값 또는 모델이 예측한 값과 실제 환경에서 관찰되는 값의 차이를 다룰 때 흔히 사용하는 측도\n",
    ">- MAPE: 평균절대비오차 - 오차가 예측값에서 차지하는 정도를 나타내는 지표(정확도를 오차의 백분율로 표시)\n",
    "\n",
    "- NVDA\n",
    "    - MSE:  685.3606703300916\n",
    "    - MAE:  21.593667039906936\n",
    "    - RMSE:  26.179394002346417\n",
    "    - MAPE: 9.09%\n",
    "- AMD\n",
    "    - MSE:  152.3992766009352\n",
    "    - MAE:  10.062945171091057\n",
    "    - RMSE:  12.345010190394142\n",
    "    - MAPE: 8.74%\n",
    "- INTEL\n",
    "    - MSE:  30.667319267774605\n",
    "    - MAE:  4.841161822537042\n",
    "    - RMSE:  5.537808164587737\n",
    "    - MAPE: 9.88%"
   ]
  },
  {
   "cell_type": "markdown",
   "id": "45dd28ef",
   "metadata": {},
   "source": [
    "# 회고\n",
    "- 구현 완료!\n",
    "- MAPE: 15%이하로 미만의 정확도로 예측함\n",
    "    - 10%이하로 정확도 예측함\n",
    "        - NVDA\n",
    "            - MAPE: 9.09%\n",
    "        - AMD\n",
    "            - MAPE: 8.74%\n",
    "        - INTEL\n",
    "            - MAPE: 9.88%\n",
    "        \n",
    "\n",
    "- 구현은 완료하였으나 더 많은 이해가 필요하다."
   ]
  }
 ],
 "metadata": {
  "kernelspec": {
   "display_name": "Python 3 (ipykernel)",
   "language": "python",
   "name": "python3"
  },
  "language_info": {
   "codemirror_mode": {
    "name": "ipython",
    "version": 3
   },
   "file_extension": ".py",
   "mimetype": "text/x-python",
   "name": "python",
   "nbconvert_exporter": "python",
   "pygments_lexer": "ipython3",
   "version": "3.9.7"
  }
 },
 "nbformat": 4,
 "nbformat_minor": 5
}
